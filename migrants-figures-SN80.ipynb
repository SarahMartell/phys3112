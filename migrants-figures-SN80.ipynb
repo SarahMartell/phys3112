{
 "cells": [
  {
   "cell_type": "markdown",
   "metadata": {},
   "source": [
    "# Program to generate figures for the APOGEE halo migrants paper \n",
    "# Original submitted version with a S/N cut at 80 instead of 100\n",
    "# Has been superseded - do not use\n",
    "# Adding this line to see if I can cause a github conflict by uploading different files with the same name"
   ]
  },
  {
   "cell_type": "code",
   "execution_count": 1,
   "metadata": {
    "collapsed": false
   },
   "outputs": [
    {
     "name": "stderr",
     "output_type": "stream",
     "text": [
      "/Users/sarah/anaconda/lib/python3.4/site-packages/IPython/kernel/__init__.py:13: ShimWarning: The `IPython.kernel` package has been deprecated. You should import from ipykernel or jupyter_client instead.\n",
      "  \"You should import from ipykernel or jupyter_client instead.\", ShimWarning)\n"
     ]
    }
   ],
   "source": [
    "#import all the things\n",
    "import numpy as np\n",
    "import math\n",
    "from astropy.io import fits\n",
    "import matplotlib.pyplot as plt\n",
    "from matplotlib import cm, colors\n",
    "from astropy import units as u\n",
    "from astropy.table import Table, vstack, join, Column, unique\n",
    "from astropy.coordinates import Distance, Galactocentric, SkyCoord\n",
    "import astropy.coordinates as coord\n",
    "%matplotlib inline\n",
    "\n",
    "#Set environment: franklin or cannon\n",
    "#franklin\n",
    "#path1='/Users/sarah/active/programs/apogee-migrants/'\n",
    "#cannon\n",
    "path1='/Users/sarah/active/programs/apogee-migrants/'"
   ]
  },
  {
   "cell_type": "code",
   "execution_count": 2,
   "metadata": {
    "collapsed": false
   },
   "outputs": [],
   "source": [
    "#Grab the DR12 data\n",
    "d1=Table.read(path1+'data/allStar+-v603.150209.fits')\n",
    "d1=unique(d1,keys='APOGEE_ID')\n",
    "\n",
    "#Filter DR12 down to halo giants\n",
    "#Filter 1: aspcapflag of STAR_BAD must not be set\n",
    "f1=[]\n",
    "for i in range(len(d1)):\n",
    "    f1.append('STAR_BAD' in (d1['ASPCAPFLAGS'])[i])\n",
    "f1c=Column(f1)\n",
    "d2=d1[np.where(f1c == False)]\n",
    "\n",
    "#Filter 2: targflags of SCI_CLUSTER and CALIB_CLUSTER must not be set\n",
    "f2=[]\n",
    "for i in range(len(d2)):\n",
    "    f2.append(('SCI_CLUSTER' in (d2['TARGFLAGS'])[i]) or ('CALIB_CLUSTER' in (d2['TARGFLAGS'])[i]))\n",
    "f2c=Column(f2)\n",
    "d3=d2[np.where(f2c == False)]\n",
    "\n",
    "#Filter 3: read in the list from Matthew of stars that are likely unmarked cluster members (there are 32), remove any stars on that list from the table (there are 14)\n",
    "slist=Table.read('/Users/sarah/active/programs/apogee-migrants/data/GCcontaminants.txt',format='csv')\n",
    "f3=[]\n",
    "for i in np.arange(len(d3)):\n",
    "    f3.append(len((np.where(slist['APOGEE_ID'] == d3['APOGEE_ID'][i]))[0]))\n",
    "f3=np.array(f3)\n",
    "d4=d3[np.where(f3 == 0)]\n",
    "\n",
    "#Filter 4: reasonable values for SNR, d, log(g), Teff, [N/Fe], [Al/Fe], [Fe/H] and RA/DEC coordinates\n",
    "#First, pull out the values from d4['DISO'] (this is distance) and d4['FPARAM'] (these are uncalibrated parameters) that we need\n",
    "dvec=[]\n",
    "loggvec=[]\n",
    "teffvec=[]\n",
    "for i in range(len(d4)):\n",
    "    dvec.append(((d4['DISO'])[i])[1])\n",
    "    loggvec.append(((d4['FPARAM'])[i])[1])\n",
    "    teffvec.append(((d4['FPARAM'])[i])[0])\n",
    "dvec=Column(dvec,name='dist')\n",
    "loggvec=Column(loggvec,name='logg')\n",
    "teffvec=Column(teffvec,name='teff')\n",
    "d4.add_column(dvec)\n",
    "d4.add_column(loggvec)\n",
    "d4.add_column(teffvec)\n",
    "\n",
    "#Next, calculate |z| based on dvec and Galactic latitude\n",
    "zvec=dvec*np.sin((np.pi*np.absolute(d4['GLAT'])/180))\n",
    "zvec=Column(zvec,name='z_height')\n",
    "d4.add_column(zvec)\n",
    "f4=np.where((d4['SNR'] > 80) & (d4['dist'] > 0) & (d4['logg'] > -9000) & (d4['teff'] > -9000) & (d4['N_H'] < 9000) & (d4['AL_H'] > -9000) & (d4['FE_H'] > -9000) & (d4['RA']>-95) & (d4['DEC']>-95))\n",
    "d5=d4[f4]\n",
    "\n",
    "#Filter 5: halo giants only (limits on logg, Fe/H], |z|)\n",
    "f5=np.where((d5['logg'] < 3) & (d5['FE_H'] < -1) & (d5['FE_H'] > -1.8) & (d5['z_height'] > 10) & (d5['teff'] < 4500))\n",
    "d6=d5[f5]\n",
    "#also grab the complement of f5 (that is, d5 without d6)\n",
    "m5=np.ones(len(d5),np.bool)\n",
    "m5[f5]=0\n",
    "d6inv=d5[m5]\n",
    "\n",
    "#alternate halo criterion: |z|>5 kpc\n",
    "#f5alt=np.where((d5['logg'] < 3) & (d5['FE_H'] < -1) & (d5['FE_H'] > -1.8) & (d5['z_height'] > 3) & (d5['teff'] < 4500))\n",
    "#d6alt=d5[f5alt]"
   ]
  },
  {
   "cell_type": "code",
   "execution_count": 3,
   "metadata": {
    "collapsed": true
   },
   "outputs": [],
   "source": [
    "#Define some useful new columns\n",
    "cfe=Column(d6['C_H']-d6['FE_H'],name='cfe')\n",
    "cfe_err=Column(np.sqrt((d6['C_H_ERR']**2)+(d6['FE_H_ERR']**2)),name='cfe_err')\n",
    "nfe=Column(d6['N_H']-d6['FE_H'],name='nfe')\n",
    "nfe_err=Column(np.sqrt((d6['N_H_ERR']**2)+(d6['FE_H_ERR']**2)),name='nfe_err')\n",
    "alfe=Column(d6['AL_H']-d6['FE_H'],name='alfe')\n",
    "alfe_err=Column(np.sqrt((d6['AL_H_ERR']**2)+(d6['FE_H_ERR']**2)),name='alfe_err')\n",
    "mgfe=Column(d6['MG_H']-d6['FE_H'],name='mgfe')\n",
    "mgfe_err=Column(np.sqrt((d6['MG_H_ERR']**2)+(d6['FE_H_ERR']**2)),name='mgfe_err')\n",
    "d6.add_column(cfe)\n",
    "d6.add_column(cfe_err)\n",
    "d6.add_column(nfe)\n",
    "d6.add_column(nfe_err)\n",
    "d6.add_column(alfe)\n",
    "d6.add_column(alfe_err)\n",
    "d6.add_column(mgfe)\n",
    "d6.add_column(mgfe_err)"
   ]
  },
  {
   "cell_type": "markdown",
   "metadata": {},
   "source": [
    "Use the same selection as in the Galactic centre paper"
   ]
  },
  {
   "cell_type": "code",
   "execution_count": 26,
   "metadata": {
    "collapsed": false,
    "scrolled": true
   },
   "outputs": [
    {
     "data": {
      "text/plain": [
       "(-0.6, 1.3)"
      ]
     },
     "execution_count": 26,
     "metadata": {},
     "output_type": "execute_result"
    },
    {
     "data": {
      "text/plain": [
       "<matplotlib.figure.Figure at 0x309e89a58>"
      ]
     },
     "metadata": {},
     "output_type": "display_data"
    },
    {
     "name": "stderr",
     "output_type": "stream",
     "text": [
      "/Users/sarah/anaconda/lib/python3.4/site-packages/matplotlib/collections.py:590: FutureWarning: elementwise comparison failed; returning scalar instead, but in the future will perform elementwise comparison\n",
      "  if self._edgecolors == str('face'):\n"
     ]
    },
    {
     "data": {
      "image/png": "[encoded data removed]",
      "text/plain": [
       "<matplotlib.figure.Figure at 0x1079bc0f0>"
      ]
     },
     "metadata": {},
     "output_type": "display_data"
    }
   ],
   "source": [
    "plt.figure(1)\n",
    "plt.figure(figsize=(6,3))\n",
    "plt.plot(d6['FE_H'],d6['nfe'],'.k')\n",
    "plt.errorbar([-1.73],[-0.4],xerr=np.mean(d6['FE_H_ERR']),yerr=np.mean(d6['nfe_err']),color='black')\n",
    "xax=(np.arange(81)*0.01)-1.8\n",
    "div=np.polyval([0.2021005,0.9416563,1.288008,0.1487366,-0.371352,-0.08952794,0.2414398],xax)\n",
    "#plt.plot(xax,div+4*0.0838233,'b',linestyle='--',linewidth=2)\n",
    "plt.plot(xax,div,'b',linestyle='--',linewidth=2)\n",
    "plt.xlabel('[Fe/H]')\n",
    "plt.ylabel('[N/Fe]')\n",
    "plt.xlim(-1.8,-1.)\n",
    "plt.ylim(-0.6,1.3)\n",
    "#plt.savefig('/Users/Sarah/Desktop/Ongoing/Swinburne_Nov15/tag_n_1.eps')\n",
    "#plt.savefig(path1+'paper/figures/tag_n_1.eps')\n",
    "#plt.savefig('/Users/Sarah/Desktop/Ongoing/Leiden/chemtag5.eps')\n",
    "#plt.savefig('/Users/Sarah/lapdesk/Ongoing/AAO-colloquium/tag_n_1.eps')"
   ]
  },
  {
   "cell_type": "markdown",
   "metadata": {},
   "source": [
    "Which stars pass the cut?"
   ]
  },
  {
   "cell_type": "code",
   "execution_count": 5,
   "metadata": {
    "collapsed": true
   },
   "outputs": [],
   "source": [
    "ndiff=d6['nfe']-np.polyval([0.2021005,0.9416563,1.288008,0.1487366,-0.371352,-0.08952794,0.2414398],d6['FE_H'])\n",
    "f6=np.where(ndiff>0)\n",
    "d7=d6[f6]\n",
    "#also grab the complement of f6 (that is, d6 without d7)\n",
    "m6=np.ones(len(d6),np.bool)\n",
    "m6[f6]=0\n",
    "d7inv=d6[m6]\n",
    "\n",
    "#now add a selection for cfe<+0.15 and call it d8 \n",
    "f7=np.where(d7['cfe']<0.15)\n",
    "d8=d7[f7]\n",
    "m7=np.ones(len(d7),np.bool)\n",
    "m7[f7]=0\n",
    "d8inv=d7[m7]\n",
    "\n",
    "#now add a selection for the N-Al plane and call it d9\n",
    "f8=np.where((d8['nfe']<0.9) & (d8['nfe']>0.55))\n",
    "d9=d8[f8]\n",
    "m8=np.ones(len(d8),np.bool)\n",
    "m8[f8]=0\n",
    "d9inv=d8[m8]"
   ]
  },
  {
   "cell_type": "code",
   "execution_count": 104,
   "metadata": {
    "collapsed": false
   },
   "outputs": [
    {
     "name": "stdout",
     "output_type": "stream",
     "text": [
      "156593 135988 132928 132897 87252 253 11 9 5 0.019762845849802372\n"
     ]
    }
   ],
   "source": [
    "print(len(d1),len(d2),len(d3),len(d4),len(d5),len(d6),len(d7),len(d8),len(d9),len(d9)/len(d6))"
   ]
  },
  {
   "cell_type": "code",
   "execution_count": 64,
   "metadata": {
    "collapsed": false
   },
   "outputs": [
    {
     "name": "stdout",
     "output_type": "stream",
     "text": [
      "-3060\n"
     ]
    }
   ],
   "source": [
    "print(len(d3)-len(d2))"
   ]
  },
  {
   "cell_type": "code",
   "execution_count": 21,
   "metadata": {
    "collapsed": false
   },
   "outputs": [],
   "source": [
    "#grab just ID numbers, JHK and Teff for Anibal and Szabolcs to check photometric Teff with\n",
    "dwri=d6['ASPCAP_ID','APOGEE_ID','J','H','K','teff']\n",
    "dwri.write('/Users/sarah/active/programs/apogee-migrants/data/teffcheck.txt',format='ascii.tab')"
   ]
  },
  {
   "cell_type": "code",
   "execution_count": 6,
   "metadata": {
    "collapsed": false,
    "scrolled": true
   },
   "outputs": [
    {
     "name": "stderr",
     "output_type": "stream",
     "text": [
      "/Users/sarah/anaconda/lib/python3.4/site-packages/matplotlib/collections.py:590: FutureWarning: elementwise comparison failed; returning scalar instead, but in the future will perform elementwise comparison\n",
      "  if self._edgecolors == str('face'):\n"
     ]
    },
    {
     "data": {
      "text/plain": [
       "<matplotlib.figure.Figure at 0x1078e9898>"
      ]
     },
     "metadata": {},
     "output_type": "display_data"
    },
    {
     "data": {
      "image/png": "[encoded data removed]",
      "text/plain": [
       "<matplotlib.figure.Figure at 0x1078e9ac8>"
      ]
     },
     "metadata": {},
     "output_type": "display_data"
    }
   ],
   "source": [
    "plt.figure(1)\n",
    "plt.figure(figsize=(6,3))\n",
    "plt.plot(d6['FE_H'],d6['nfe'],'.k')\n",
    "plt.errorbar([-1.73],[-0.4],xerr=np.mean(d6['FE_H_ERR']),yerr=np.mean(d6['nfe_err']),color='black')\n",
    "xax=(np.arange(81)*0.01)-1.8\n",
    "div=np.polyval([0.2021005,0.9416563,1.288008,0.1487366,-0.371352,-0.08952794,0.2414398],xax)\n",
    "plt.plot(xax,div,'k',linestyle='--',linewidth=2)\n",
    "plt.plot(d7['FE_H'],d7['nfe'],'r^',markersize=8)\n",
    "plt.xlabel('[Fe/H]')\n",
    "plt.ylabel('[N/Fe]')\n",
    "plt.xlim(-1.8,-1.)\n",
    "plt.ylim(-0.6,1.3)\n",
    "#plt.savefig('/Users/Sarah/Desktop/Ongoing/Swinburne_Nov15/tag_n_1.eps')\n",
    "#plt.savefig(path1+'paper/figures/ff6.eps')\n",
    "#plt.savefig('/Users/Sarah/Desktop/Ongoing/Leiden/chemtag5.eps')\n",
    "#plt.savefig('/Users/Sarah/lapdesk/Ongoing/SIfA-16/tag_n_2.eps')"
   ]
  },
  {
   "cell_type": "markdown",
   "metadata": {},
   "source": [
    "Read in GC information for comparison in the N-Al plane"
   ]
  },
  {
   "cell_type": "code",
   "execution_count": 6,
   "metadata": {
    "collapsed": false
   },
   "outputs": [],
   "source": [
    "#m107 is out because its Al abundances are all kind of high\n",
    "#cm107=Table.read(path1+'data/m107-nov15.fits')\n",
    "#grab information for M2 and M5 starting from d2, using membership lists from Meszaros/Martell 2015\n",
    "#m5 is out (for the figures) because it has too many stars!\n",
    "#m5list=Table.read(path1+'data/m5-members-list.fits')\n",
    "#m5listpre=[]\n",
    "#for num in m5list:\n",
    "#    m5listpre.append('2M'+num['_2MASS'])\n",
    "#m5listcol=Column(m5listpre,name='APOGEE_ID')\n",
    "#m5list.add_column(m5listcol)\n",
    "#cm5=join(d2,m5list,keys='APOGEE_ID')\n",
    "m2list=Table.read(path1+'data/m2-members-list.fits')\n",
    "m2listpre=[]\n",
    "for num in m2list:\n",
    "    m2listpre.append('2M'+num['_2MASS'])\n",
    "m2listcol=Column(m2listpre,name='APOGEE_ID')\n",
    "m2list.add_column(m2listcol)\n",
    "cm2=join(d2,m2list,keys='APOGEE_ID')\n",
    "teffvec=[]\n",
    "for i in range(len(cm2)):\n",
    "    teffvec.append(((cm2['FPARAM'])[i])[0])\n",
    "teffvec=Column(teffvec,name='teff')\n",
    "cfe=Column(cm2['C_H']-cm2['FE_H'],name='cfe')\n",
    "cfe_err=Column(np.sqrt((cm2['C_H_ERR']**2)+(cm2['FE_H_ERR']**2)),name='cfe_err')\n",
    "nfe=Column(cm2['N_H']-cm2['FE_H'],name='nfe')\n",
    "nfe_err=Column(np.sqrt((cm2['N_H_ERR']**2)+(cm2['FE_H_ERR']**2)),name='nfe_err')\n",
    "alfe=Column(cm2['AL_H']-cm2['FE_H'],name='alfe')\n",
    "alfe_err=Column(np.sqrt((cm2['AL_H_ERR']**2)+(cm2['FE_H_ERR']**2)),name='alfe_err')\n",
    "mgfe=Column(cm2['MG_H']-cm2['FE_H'],name='mgfe')\n",
    "mgfe_err=Column(np.sqrt((cm2['MG_H_ERR']**2)+(cm2['FE_H_ERR']**2)),name='mgfe_err')\n",
    "cm2.add_column(teffvec)\n",
    "cm2.add_column(cfe)\n",
    "cm2.add_column(cfe_err)\n",
    "cm2.add_column(nfe)\n",
    "cm2.add_column(nfe_err)\n",
    "cm2.add_column(alfe)\n",
    "cm2.add_column(alfe_err)\n",
    "cm2.add_column(mgfe)\n",
    "cm2.add_column(mgfe_err)\n",
    "cm3=Table.read(path1+'data/m3-nov15.fits')\n",
    "teffvec=[]\n",
    "for i in range(len(cm3)):\n",
    "    teffvec.append(((cm3['FPARAM'])[i])[0])\n",
    "teffvec=Column(teffvec,name='teff')\n",
    "cfe=Column(cm3['C_H']-cm3['FE_H'],name='cfe')\n",
    "cfe_err=Column(np.sqrt((cm3['C_H_ERR']**2)+(cm3['FE_H_ERR']**2)),name='cfe_err')\n",
    "nfe=Column(cm3['N_H']-cm3['FE_H'],name='nfe')\n",
    "nfe_err=Column(np.sqrt((cm3['N_H_ERR']**2)+(cm3['FE_H_ERR']**2)),name='nfe_err')\n",
    "alfe=Column(cm3['AL_H']-cm3['FE_H'],name='alfe')\n",
    "alfe_err=Column(np.sqrt((cm3['AL_H_ERR']**2)+(cm3['FE_H_ERR']**2)),name='alfe_err')\n",
    "mgfe=Column(cm3['MG_H']-cm3['FE_H'],name='mgfe')\n",
    "mgfe_err=Column(np.sqrt((cm3['MG_H_ERR']**2)+(cm3['FE_H_ERR']**2)),name='mgfe_err')\n",
    "cm3.add_column(teffvec)\n",
    "cm3.add_column(cfe)\n",
    "cm3.add_column(cfe_err)\n",
    "cm3.add_column(nfe)\n",
    "cm3.add_column(nfe_err)\n",
    "cm3.add_column(alfe)\n",
    "cm3.add_column(alfe_err)\n",
    "cm3.add_column(mgfe)\n",
    "cm3.add_column(mgfe_err)\n",
    "cm13=Table.read(path1+'data/m13-nov15.fits')\n",
    "teffvec=[]\n",
    "for i in range(len(cm13)):\n",
    "    teffvec.append(((cm13['FPARAM'])[i])[0])\n",
    "teffvec=Column(teffvec,name='teff')\n",
    "cfe=Column(cm13['C_H']-cm13['FE_H'],name='cfe')\n",
    "cfe_err=Column(np.sqrt((cm13['C_H_ERR']**2)+(cm13['FE_H_ERR']**2)),name='cfe_err')\n",
    "nfe=Column(cm13['N_H']-cm13['FE_H'],name='nfe')\n",
    "nfe_err=Column(np.sqrt((cm13['N_H_ERR']**2)+(cm13['FE_H_ERR']**2)),name='nfe_err')\n",
    "alfe=Column(cm13['AL_H']-cm13['FE_H'],name='alfe')\n",
    "alfe_err=Column(np.sqrt((cm13['AL_H_ERR']**2)+(cm13['FE_H_ERR']**2)),name='alfe_err')\n",
    "mgfe=Column(cm13['MG_H']-cm13['FE_H'],name='mgfe')\n",
    "mgfe_err=Column(np.sqrt((cm13['MG_H_ERR']**2)+(cm13['FE_H_ERR']**2)),name='mgfe_err')\n",
    "cm13.add_column(teffvec)\n",
    "cm13.add_column(cfe)\n",
    "cm13.add_column(cfe_err)\n",
    "cm13.add_column(nfe)\n",
    "cm13.add_column(nfe_err)\n",
    "cm13.add_column(alfe)\n",
    "cm13.add_column(alfe_err)\n",
    "cm13.add_column(mgfe)\n",
    "cm13.add_column(mgfe_err)\n",
    "#cm15=Table.read('/Users/sarah/active/programs/apogee-migrants/data/m15-nov15.fits')\n",
    "gc_feh=np.concatenate([cm3['FE_H'],cm13['FE_H'],cm2['FE_H']])\n",
    "gc_cfe=np.concatenate([cm3['cfe'],cm13['cfe'],cm2['cfe']])\n",
    "gc_cfe_err=np.concatenate([cm3['cfe_err'],cm13['cfe_err'],cm2['cfe_err']])\n",
    "gc_nfe=np.concatenate([cm3['nfe'],cm13['nfe'],cm2['nfe']])\n",
    "gc_nfe_err=np.concatenate([cm3['nfe_err'],cm13['nfe_err'],cm2['nfe_err']])\n",
    "gc_alfe=np.concatenate([cm3['alfe'],cm13['alfe'],cm2['alfe']])\n",
    "gc_alfe_err=np.concatenate([cm3['alfe_err'],cm13['alfe_err'],cm2['alfe_err']])\n",
    "gc_mgfe=np.concatenate([cm3['mgfe'],cm13['mgfe'],cm2['mgfe']])\n",
    "gc_mgfe_err=np.concatenate([cm3['mgfe_err'],cm13['mgfe_err'],cm2['mgfe_err']])\n",
    "gc_teff=np.concatenate([cm3['TEFF'],cm13['TEFF'],cm2['TEFF']])"
   ]
  },
  {
   "cell_type": "code",
   "execution_count": null,
   "metadata": {
    "collapsed": true
   },
   "outputs": [],
   "source": []
  },
  {
   "cell_type": "markdown",
   "metadata": {
    "collapsed": true
   },
   "source": [
    "Identify \"bona fide\" C-rich stars using the definition from Schiavon 2016"
   ]
  },
  {
   "cell_type": "code",
   "execution_count": 14,
   "metadata": {
    "collapsed": false
   },
   "outputs": [
    {
     "data": {
      "image/png": "[encoded data removed]",
      "text/plain": [
       "<matplotlib.figure.Figure at 0x105a4c0f0>"
      ]
     },
     "metadata": {},
     "output_type": "display_data"
    }
   ],
   "source": [
    "plt.plot(d6['FE_H'],d6['cfe'],'ko',markersize=4)\n",
    "plt.plot([-1.8,-1.],[0.15,0.15],'k',linestyle='--',linewidth=2)\n",
    "plt.xlabel('[Fe/H]')\n",
    "plt.ylabel('[C/Fe]')\n",
    "plt.xlim([-1.8,-1.])\n",
    "plt.ylim([-0.9,0.7])\n",
    "#plt.savefig('/Users/sarah/active/programs/apogee-migrants/work/fehcfe.ps')"
   ]
  },
  {
   "cell_type": "code",
   "execution_count": null,
   "metadata": {
    "collapsed": true
   },
   "outputs": [],
   "source": []
  },
  {
   "cell_type": "markdown",
   "metadata": {},
   "source": [
    "Figure out if any of the 9 N-rich stars are also C-rich (same criterion as in Schiavon 2016)"
   ]
  },
  {
   "cell_type": "code",
   "execution_count": 11,
   "metadata": {
    "collapsed": false
   },
   "outputs": [
    {
     "data": {
      "text/plain": [
       "(-0.3, 1.1)"
      ]
     },
     "execution_count": 11,
     "metadata": {},
     "output_type": "execute_result"
    },
    {
     "data": {
      "image/png": "[encoded data removed]",
      "text/plain": [
       "<matplotlib.figure.Figure at 0x20aaf9b70>"
      ]
     },
     "metadata": {},
     "output_type": "display_data"
    }
   ],
   "source": [
    "plt.plot(d6['cfe'],d6['nfe'],'ko',markersize=4)\n",
    "#plt.plot(d8['cfe'],d8['nfe'],'ro',markersize=13)\n",
    "#plt.plot(d8inv['cfe'],d8inv['nfe'],'co',markersize=13)\n",
    "plt.plot([0.15,0.15],[-0.4,1.2],'k',linestyle='--',linewidth=2)\n",
    "plt.xlabel('[C/Fe]')\n",
    "plt.ylabel('[N/Fe]')\n",
    "plt.xlim([-0.9,0.7])\n",
    "plt.ylim([-0.3,1.1])\n",
    "#plt.savefig('/Users/Sarah/lapdesk/Ongoing/AAO-colloquium/tag_c_n_1.eps')\n",
    "#plt.savefig('/Users/sarah/active/programs/apogee-migrants/work/cfenfe.ps')"
   ]
  },
  {
   "cell_type": "code",
   "execution_count": 6,
   "metadata": {
    "collapsed": false
   },
   "outputs": [
    {
     "data": {
      "text/plain": [
       "(array([ 55, 124, 155, 167, 205, 225]),)"
      ]
     },
     "execution_count": 6,
     "metadata": {},
     "output_type": "execute_result"
    }
   ],
   "source": [
    "np.where(d6['cfe']>0.3)"
   ]
  },
  {
   "cell_type": "code",
   "execution_count": 10,
   "metadata": {
    "collapsed": false
   },
   "outputs": [
    {
     "data": {
      "image/png": "[encoded data removed]",
      "text/plain": [
       "<matplotlib.figure.Figure at 0x30a72c240>"
      ]
     },
     "metadata": {},
     "output_type": "display_data"
    }
   ],
   "source": [
    "plt.plot(d6['cfe'],d6['nfe'],'k.')\n",
    "plt.plot(d8['cfe'],d8['nfe'],'ro',markersize=8)\n",
    "plt.plot(d8inv['cfe'],d8inv['nfe'],'co',markersize=8)\n",
    "plt.plot([0.15,0.15],[-0.4,1.2],'k',linestyle='--',linewidth=2)\n",
    "plt.xlabel('[C/Fe]')\n",
    "plt.ylabel('[N/Fe]')\n",
    "plt.xlim([-0.9,0.7])\n",
    "plt.ylim([-0.3,1.1])\n",
    "#plt.savefig('/Users/Sarah/lapdesk/Ongoing/SIfA-16/tag_c_n_2.eps')"
   ]
  },
  {
   "cell_type": "code",
   "execution_count": 10,
   "metadata": {
    "collapsed": false
   },
   "outputs": [
    {
     "data": {
      "text/plain": [
       "(-0.8, 1.1)"
      ]
     },
     "execution_count": 10,
     "metadata": {},
     "output_type": "execute_result"
    },
    {
     "data": {
      "image/png": "[encoded data removed]",
      "text/plain": [
       "<matplotlib.figure.Figure at 0x1078c9438>"
      ]
     },
     "metadata": {},
     "output_type": "display_data"
    }
   ],
   "source": [
    "plt.plot(d6['nfe'],d6['alfe'],'k.')\n",
    "#plt.plot(cm3['nfe'],cm3['alfe'],'ms')\n",
    "#plt.plot(cm13['nfe'],cm13['alfe'],'bo')\n",
    "#plt.plot(d8['nfe'],d8['alfe'],'ro')\n",
    "#plt.plot(d8inv['nfe'],d8inv['alfe'],'go')\n",
    "#plt.plot([-0.3,1.1],[np.mean(d7inv['alfe']),np.mean(d7inv['alfe'])])\n",
    "plt.xlabel('[N/Fe]')\n",
    "plt.ylabel('[Al/Fe]')\n",
    "plt.xlim([-0.3,1.1])\n",
    "plt.ylim([-0.8,1.1])\n",
    "#plt.savefig('/Users/Sarah/lapdesk/Ongoing/AAO-colloquium/tag_n_al_1.eps')"
   ]
  },
  {
   "cell_type": "code",
   "execution_count": 14,
   "metadata": {
    "collapsed": false
   },
   "outputs": [
    {
     "data": {
      "text/plain": [
       "(-0.8, 1.1)"
      ]
     },
     "execution_count": 14,
     "metadata": {},
     "output_type": "execute_result"
    },
    {
     "data": {
      "image/png": "[encoded data removed]",
      "text/plain": [
       "<matplotlib.figure.Figure at 0x261fa3048>"
      ]
     },
     "metadata": {},
     "output_type": "display_data"
    }
   ],
   "source": [
    "plt.plot(d6['nfe'],d6['alfe'],'k.')\n",
    "#plt.plot(cm3['nfe'],cm3['alfe'],'ms')\n",
    "#plt.plot(cm13['nfe'],cm13['alfe'],'bo')\n",
    "plt.plot(d8['nfe'],d8['alfe'],'r^',markersize=8)\n",
    "#plt.plot(d8inv['nfe'],d8inv['alfe'],'go')\n",
    "#plt.plot([-0.3,1.1],[np.mean(d7inv['alfe']),np.mean(d7inv['alfe'])])\n",
    "plt.xlabel('[N/Fe]')\n",
    "plt.ylabel('[Al/Fe]')\n",
    "plt.xlim([-0.3,1.1])\n",
    "plt.ylim([-0.8,1.1])\n",
    "#plt.savefig('/Users/Sarah/lapdesk/Ongoing/AAO-colloquium/tag_n_al_2.eps')"
   ]
  },
  {
   "cell_type": "code",
   "execution_count": 7,
   "metadata": {
    "collapsed": false
   },
   "outputs": [
    {
     "data": {
      "image/png": "[encoded data removed]",
      "text/plain": [
       "<matplotlib.figure.Figure at 0x20775db70>"
      ]
     },
     "metadata": {},
     "output_type": "display_data"
    }
   ],
   "source": [
    "plt.plot(d6['nfe'],d6['alfe'],'k.')\n",
    "plt.plot(cm3['nfe'],cm3['alfe'],'ms',markersize=6)\n",
    "plt.plot(cm13['nfe'],cm13['alfe'],'bo',markersize=6)\n",
    "plt.plot(cm2['nfe'],cm2['alfe'],'d',markersize=6,color='turquoise')\n",
    "plt.plot(d8['nfe'],d8['alfe'],'r^',markersize=10)\n",
    "#plt.plot(d8inv['nfe'],d8inv['alfe'],'go')\n",
    "#plt.plot([-0.3,1.1],[np.mean(d7inv['alfe']),np.mean(d7inv['alfe'])])\n",
    "plt.xlabel('[N/Fe]')\n",
    "plt.ylabel('[Al/Fe]')\n",
    "plt.xlim([-0.3,1.1])\n",
    "plt.ylim([-0.8,1.1])\n",
    "#plt.savefig('/Users/Sarah/lapdesk/Ongoing/SIfA-16/tag_n_al_3.eps')\n",
    "#plt.savefig(path1+'paper/figures/ff7.eps')"
   ]
  },
  {
   "cell_type": "code",
   "execution_count": 106,
   "metadata": {
    "collapsed": false
   },
   "outputs": [
    {
     "data": {
      "text/plain": [
       "(-0.8, 1.1)"
      ]
     },
     "execution_count": 106,
     "metadata": {},
     "output_type": "execute_result"
    },
    {
     "data": {
      "image/png": "[encoded data removed]",
      "text/plain": [
       "<matplotlib.figure.Figure at 0x30d2b7978>"
      ]
     },
     "metadata": {},
     "output_type": "display_data"
    }
   ],
   "source": [
    "plt.plot(d6['nfe'],d6['alfe'],'k.')\n",
    "plt.plot(cm3['nfe'],cm3['alfe'],'ms',markersize=5)\n",
    "plt.plot(cm13['nfe'],cm13['alfe'],'bo',markersize=5)\n",
    "plt.plot(cm2['nfe'],cm2['alfe'],'d',markersize=6,color='turquoise')\n",
    "plt.plot(d9['nfe'],d9['alfe'],'ro',markersize=8)\n",
    "#plt.plot(d8inv['nfe'],d8inv['alfe'],'go')\n",
    "#plt.plot([-0.3,1.1],[np.mean(d7inv['alfe']),np.mean(d7inv['alfe'])])\n",
    "plt.xlabel('[N/Fe]')\n",
    "plt.ylabel('[Al/Fe]')\n",
    "plt.xlim([-0.3,1.1])\n",
    "plt.ylim([-0.8,1.1])\n",
    "#plt.savefig('/Users/Sarah/lapdesk/Ongoing/SIfA-16/tag_n_al_4.eps')"
   ]
  },
  {
   "cell_type": "code",
   "execution_count": 18,
   "metadata": {
    "collapsed": false,
    "scrolled": true
   },
   "outputs": [
    {
     "data": {
      "text/html": [
       "&lt;Table masked=False length=5&gt;\n",
       "<table id=\"table9906129832\">\n",
       "<thead><tr><th>APSTAR_ID</th><th>TARGET_ID</th><th>ASPCAP_ID</th><th>FILE</th><th>APOGEE_ID</th><th>TELESCOPE</th><th>LOCATION_ID</th><th>FIELD</th><th>J</th><th>J_ERR</th><th>H</th><th>H_ERR</th><th>K</th><th>K_ERR</th><th>RA</th><th>DEC</th><th>GLON</th><th>GLAT</th><th>APOGEE_TARGET1</th><th>APOGEE_TARGET2</th><th>TARGFLAGS</th><th>NVISITS</th><th>COMMISS</th><th>SNR</th><th>STARFLAG</th><th>STARFLAGS</th><th>ANDFLAG</th><th>ANDFLAGS</th><th>VHELIO_AVG</th><th>VSCATTER</th><th>VERR</th><th>VERR_MED</th><th>SYNTHVHELIO_AVG</th><th>SYNTHVSCATTER</th><th>SYNTHVERR</th><th>SYNTHVERR_MED</th><th>RV_TEFF</th><th>RV_LOGG</th><th>RV_FEH</th><th>RV_CCFWHM</th><th>RV_AUTOFWHM</th><th>SYNTHSCATTER</th><th>STABLERV_CHI2 [2]</th><th>STABLERV_RCHI2 [2]</th><th>CHI2_THRESHOLD [2]</th><th>STABLERV_CHI2_PROB [2]</th><th>APSTAR_VERSION</th><th>ASPCAP_VERSION</th><th>RESULTS_VERSION</th><th>EXTRATARG</th><th>PARAM [7]</th><th>FPARAM [7]</th><th>PARAM_COV [7,7]</th><th>FPARAM_COV [7,7]</th><th>ELEM [15]</th><th>FELEM [15]</th><th>ELEM_ERR [15]</th><th>FELEM_ERR [15]</th><th>TEFF</th><th>LOGG</th><th>PARAM_M_H</th><th>PARAM_ALPHA_M</th><th>TEFF_ERR</th><th>LOGG_ERR</th><th>PARAM_M_H_ERR</th><th>PARAM_ALPHA_M_ERR</th><th>ASPCAP_CHI2</th><th>ASPCAP_CLASS</th><th>ASPCAPFLAG</th><th>ASPCAPFLAGS</th><th>PARAMFLAG [7]</th><th>AL_H</th><th>CA_H</th><th>C_H</th><th>FE_H</th><th>K_H</th><th>MG_H</th><th>MN_H</th><th>NA_H</th><th>NI_H</th><th>N_H</th><th>O_H</th><th>SI_H</th><th>S_H</th><th>TI_H</th><th>V_H</th><th>AL_H_ERR</th><th>CA_H_ERR</th><th>C_H_ERR</th><th>FE_H_ERR</th><th>K_H_ERR</th><th>MG_H_ERR</th><th>MN_H_ERR</th><th>NA_H_ERR</th><th>NI_H_ERR</th><th>N_H_ERR</th><th>O_H_ERR</th><th>SI_H_ERR</th><th>S_H_ERR</th><th>TI_H_ERR</th><th>V_H_ERR</th><th>AL_H_FLAG</th><th>CA_H_FLAG</th><th>C_H_FLAG</th><th>FE_H_FLAG</th><th>K_H_FLAG</th><th>MG_H_FLAG</th><th>MN_H_FLAG</th><th>NA_H_FLAG</th><th>NI_H_FLAG</th><th>N_H_FLAG</th><th>O_H_FLAG</th><th>SI_H_FLAG</th><th>S_H_FLAG</th><th>TI_H_FLAG</th><th>V_H_FLAG</th><th>ELEM_CHI2 [15]</th><th>ELEMFLAG [15]</th><th>REDUCTION_ID</th><th>SRC_H</th><th>WASH_M</th><th>WASH_M_ERR</th><th>WASH_T2</th><th>WASH_T2_ERR</th><th>DDO51</th><th>DDO51_ERR</th><th>IRAC_3_6</th><th>IRAC_3_6_ERR</th><th>IRAC_4_5</th><th>IRAC_4_5_ERR</th><th>IRAC_5_8</th><th>IRAC_5_8_ERR</th><th>IRAC_8_0</th><th>IRAC_8_0_ERR</th><th>WISE_4_5</th><th>WISE_4_5_ERR</th><th>TARG_4_5</th><th>TARG_4_5_ERR</th><th>AK_TARG</th><th>AK_TARG_METHOD</th><th>AK_WISE</th><th>SFD_EBV</th><th>WASH_DDO51_GIANT_FLAG</th><th>WASH_DDO51_STAR_FLAG</th><th>PMRA</th><th>PMDEC</th><th>PM_SRC</th><th>ALL_VISITS</th><th>VISITS</th><th>ALL_VISIT_PK [50]</th><th>VISIT_PK [50]</th><th>OBSTE</th><th>OBSLOGG</th><th>OBSFEH</th><th>OBSMAG</th><th>DISO [3]</th><th>DISO_SIG</th><th>DISO_GAL [3]</th><th>DISO_SIG_GAL</th><th>DMASS [3]</th><th>DMASS_SIG</th><th>DMASS_GAL [3]</th><th>DMASS_SIG_GAL</th><th>MH [3]</th><th>MH_SIG</th><th>MASS [3]</th><th>MASS_SIG</th><th>AGE [3]</th><th>AGE_SIG</th><th>DISO_RAN [100]</th><th>DMASS_RAN [100]</th><th>AGE_RAN [100]</th><th>dist</th><th>logg</th><th>teff</th><th>z_height</th><th>cfe</th><th>cfe_err</th><th>nfe</th><th>nfe_err</th><th>alfe</th><th>alfe_err</th><th>mgfe</th><th>mgfe_err</th></tr></thead>\n",
       "<thead><tr><th>str1440</th><th>str1088</th><th>str1408</th><th>str1088</th><th>str576</th><th>str256</th><th>int16</th><th>str512</th><th>float32</th><th>float32</th><th>float32</th><th>float32</th><th>float32</th><th>float32</th><th>float64</th><th>float64</th><th>float64</th><th>float64</th><th>int32</th><th>int32</th><th>str3712</th><th>int32</th><th>int16</th><th>float32</th><th>int32</th><th>str4128</th><th>int32</th><th>str1888</th><th>float32</th><th>float32</th><th>float32</th><th>float32</th><th>float32</th><th>float32</th><th>float32</th><th>float32</th><th>float32</th><th>float32</th><th>float32</th><th>float32</th><th>float32</th><th>float32</th><th>float32</th><th>float32</th><th>float32</th><th>float32</th><th>str160</th><th>str192</th><th>str128</th><th>int16</th><th>float32</th><th>float32</th><th>float32</th><th>float32</th><th>float32</th><th>float32</th><th>float32</th><th>float32</th><th>float32</th><th>float32</th><th>float32</th><th>float32</th><th>float32</th><th>float32</th><th>float32</th><th>float32</th><th>float32</th><th>str64</th><th>int32</th><th>str4896</th><th>int32</th><th>float32</th><th>float32</th><th>float32</th><th>float32</th><th>float32</th><th>float32</th><th>float32</th><th>float32</th><th>float32</th><th>float32</th><th>float32</th><th>float32</th><th>float32</th><th>float32</th><th>float32</th><th>float32</th><th>float32</th><th>float32</th><th>float32</th><th>float32</th><th>float32</th><th>float32</th><th>float32</th><th>float32</th><th>float32</th><th>float32</th><th>float32</th><th>float32</th><th>float32</th><th>float32</th><th>int32</th><th>int32</th><th>int32</th><th>int32</th><th>int32</th><th>int32</th><th>int32</th><th>int32</th><th>int32</th><th>int32</th><th>int32</th><th>int32</th><th>int32</th><th>int32</th><th>int32</th><th>float32</th><th>int32</th><th>str576</th><th>str384</th><th>float32</th><th>float32</th><th>float32</th><th>float32</th><th>float32</th><th>float32</th><th>float32</th><th>float32</th><th>float32</th><th>float32</th><th>float32</th><th>float32</th><th>float32</th><th>float32</th><th>float32</th><th>float32</th><th>float32</th><th>float32</th><th>float32</th><th>str544</th><th>float32</th><th>float32</th><th>int16</th><th>int16</th><th>float32</th><th>float32</th><th>str640</th><th>str23584</th><th>str21280</th><th>int32</th><th>int32</th><th>float32</th><th>float32</th><th>float32</th><th>float32</th><th>float32</th><th>float32</th><th>float32</th><th>float32</th><th>float32</th><th>float32</th><th>float32</th><th>float32</th><th>float32</th><th>float32</th><th>float32</th><th>float32</th><th>float32</th><th>float32</th><th>float32</th><th>float32</th><th>float32</th><th>float32</th><th>float32</th><th>float32</th><th>float64</th><th>float32</th><th>float32</th><th>float32</th><th>float32</th><th>float32</th><th>float32</th><th>float32</th><th>float32</th></tr></thead>\n",
       "<tr><td>apogee.apo25m.s.stars.4485.2M12555505+4043433</td><td>4485.2M12555505+4043433</td><td>apogee.apo25m.s.v603.4485.2M12555505+4043433</td><td>apStar-r5-2M12555505+4043433.fits</td><td>2M12555505+4043433</td><td>apo25m</td><td>4485</td><td>120+75</td><td>11.906</td><td>0.021</td><td>11.2</td><td>0.02</td><td>11.079</td><td>0.02</td><td>193.979409</td><td>40.728706</td><td>119.328897035</td><td>76.3683184052</td><td>-2147481600</td><td>0</td><td>APOGEE_SHORT</td><td>3</td><td>0</td><td>154.854</td><td>2048</td><td>PERSIST_LOW</td><td>2048</td><td>PERSIST_LOW</td><td>-62.9126</td><td>2.46953</td><td>0.0234638</td><td>0.0411659</td><td>-62.826</td><td>2.38429</td><td>0.0194708</td><td>0.0341735</td><td>4000.0</td><td>2.0</td><td>-1.5</td><td>23.1483</td><td>20.624</td><td>0.184854</td><td>7585.57 .. 10385.8</td><td>61.5856 .. 72.0617</td><td>13.8156 .. 13.8156</td><td>0.0 .. 0.0</td><td>stars</td><td>l25_6d</td><td>v603</td><td>0</td><td>4159.1 .. 0.426711</td><td>4069.6 .. 0.43874</td><td>8366.16 .. 0.00137283</td><td>5.366 .. 2.1466e-05</td><td>-0.45925 .. -1.43436</td><td>-0.45925 .. -1.3809</td><td>0.0839332 .. 0.0708254</td><td>0.00935495 .. 0.0148617</td><td>4159.1</td><td>0.566073</td><td>-1.59476</td><td>0.426711</td><td>91.4667</td><td>0.106893</td><td>0.0476264</td><td>0.0370518</td><td>5.58496</td><td>GK</td><td>0</td><td></td><td>0 .. 512</td><td>-1.1427</td><td>-1.27711</td><td>-1.80765</td><td>-1.42152</td><td>-9999.0</td><td>-1.37165</td><td>-1.31213</td><td>-1.59168</td><td>-1.43436</td><td>-0.70988</td><td>-0.875564</td><td>-0.653952</td><td>-0.805162</td><td>-1.55348</td><td>-1.75773</td><td>0.151865</td><td>0.0907558</td><td>0.0839332</td><td>0.0483984</td><td>-9999.0</td><td>0.0671672</td><td>0.0747821</td><td>0.283393</td><td>0.0708254</td><td>0.125526</td><td>0.0424188</td><td>0.0463706</td><td>0.0760661</td><td>0.0905914</td><td>0.185393</td><td>512</td><td>512</td><td>512</td><td>512</td><td>257</td><td>512</td><td>512</td><td>512</td><td>512</td><td>512</td><td>512</td><td>512</td><td>512</td><td>512</td><td>512</td><td>6.60131 .. 0.982853</td><td>512 .. 512</td><td>2M12555505+4043433</td><td>2MASS</td><td>-9999.99</td><td>-9999.99</td><td>-9999.99</td><td>-9999.99</td><td>-9999.99</td><td>-9999.99</td><td>-9999.99</td><td>-9999.99</td><td>-9999.99</td><td>-9999.99</td><td>-9999.99</td><td>-9999.99</td><td>-9999.99</td><td>-9999.99</td><td>11.096</td><td>0.02</td><td>11.086</td><td>0.02</td><td>0.00507355</td><td>SFD</td><td>0.0495721</td><td>0.0167998</td><td>-1</td><td>1</td><td>-3.4</td><td>-5.3</td><td>NOMAD</td><td>r5-7345-56706-098,r5-7345-56734-101,r5-7345-56756-095</td><td>r5-7345-56706-098,r5-7345-56734-101,r5-7345-56756-095</td><td>309633 .. -1</td><td>309633 .. -1</td><td>4159.1</td><td>0.566073</td><td>-1.42152</td><td>11.1925</td><td>22.83 .. 21.6614</td><td>2.88266</td><td>22.83 .. 21.3386</td><td>2.79303</td><td>22.4953 .. 23.9977</td><td>2.59838</td><td>22.4953 .. 23.7933</td><td>2.15417</td><td>-5.6 .. -5.46709</td><td>0.285749</td><td>0.841395 .. 0.968767</td><td>0.265216</td><td>10.1 .. 9.85323</td><td>0.240976</td><td>18.9892 .. 21.8025</td><td>22.4953 .. 22.4953</td><td>9.85 .. 10.05</td><td>21.8025</td><td>1.0121</td><td>4069.6</td><td>21.1883377545</td><td>-0.386127</td><td>0.0968876</td><td>0.711643</td><td>0.134533</td><td>0.278825</td><td>0.159391</td><td>0.0498772</td><td>0.0827879</td></tr>\n",
       "<tr><td>apogee.apo25m.s.stars.4128.2M13160763+1707516</td><td>4128.2M13160763+1707516</td><td>apogee.apo25m.s.v603.4128.2M13160763+1707516</td><td>apStar-r5-2M13160763+1707516.fits</td><td>2M13160763+1707516</td><td>apo25m</td><td>4128</td><td>M53</td><td>14.131</td><td>0.029</td><td>13.456</td><td>0.032</td><td>13.278</td><td>0.036</td><td>199.031793</td><td>17.131021</td><td>333.920835986</td><td>78.4887714735</td><td>-2147475264</td><td>0</td><td>APOGEE_NO_DERED,APOGEE_WASH_GIANT,APOGEE_LONG</td><td>14</td><td>0</td><td>112.54</td><td>1024</td><td>PERSIST_MED</td><td>0</td><td></td><td>-1.97217</td><td>1.41734</td><td>0.119389</td><td>0.460479</td><td>-2.04496</td><td>1.15767</td><td>0.0614472</td><td>0.220914</td><td>4750.0</td><td>2.0</td><td>-1.5</td><td>23.7691</td><td>21.1456</td><td>1.57071</td><td>155.449 .. 179.897</td><td>3.45798 .. 3.71997</td><td>34.5283 .. 34.5283</td><td>0.0 .. 0.0</td><td>stars</td><td>l25_6d</td><td>v603</td><td>0</td><td>4413.14 .. 0.170525</td><td>4324.5 .. 0.17543</td><td>8366.16 .. 0.00131727</td><td>40.845 .. 5.509e-05</td><td>-0.4344 .. -1.5115</td><td>-0.4344 .. -1.4897</td><td>0.096619 .. 0.075832</td><td>0.0142404 .. 0.0163793</td><td>4413.14</td><td>0.86136</td><td>-1.4778</td><td>0.170525</td><td>91.4667</td><td>0.106893</td><td>0.0463195</td><td>0.0362942</td><td>4.99701</td><td>GK</td><td>0</td><td></td><td>0 .. 512</td><td>-1.40933</td><td>-0.561846</td><td>-1.6925</td><td>-1.24931</td><td>-1.89684</td><td>-1.27744</td><td>-1.4115</td><td>-0.810354</td><td>-1.5115</td><td>-0.707</td><td>-0.830727</td><td>-1.01918</td><td>-0.792201</td><td>-1.2671</td><td>-0.324193</td><td>0.169573</td><td>0.108094</td><td>0.096619</td><td>0.049748</td><td>0.134963</td><td>0.0756061</td><td>0.0951779</td><td>0.291443</td><td>0.075832</td><td>0.132468</td><td>0.0495213</td><td>0.0523944</td><td>0.0928422</td><td>0.102364</td><td>0.268398</td><td>512</td><td>512</td><td>512</td><td>512</td><td>512</td><td>512</td><td>512</td><td>512</td><td>512</td><td>512</td><td>512</td><td>512</td><td>512</td><td>512</td><td>512</td><td>3.55852 .. 3.97493</td><td>512 .. 512</td><td>2M13160763+1707516</td><td>2MASS</td><td>16.628</td><td>0.033</td><td>15.008</td><td>0.057</td><td>16.563</td><td>0.018</td><td>-9999.99</td><td>-9999.99</td><td>-9999.99</td><td>-9999.99</td><td>-9999.99</td><td>-9999.99</td><td>-9999.99</td><td>-9999.99</td><td>13.262</td><td>0.03</td><td>13.257</td><td>0.0</td><td>0.136782</td><td>RJCE_WISE_OPS2</td><td>0.132192</td><td>0.0277613</td><td>1</td><td>1</td><td>0.0</td><td>0.0</td><td>NOMAD</td><td>r5-5633-55932-079,r5-5633-55965-079,r5-5633-55990-085,r5-5633-55991-085,r5-5633-55998-084,r5-5633-55999-084,r5-5634-55992-163,r5-5634-56019-163,r5-5634-56021-163,r5-5634-56022-163,r5-5644-55933-170,r5-5644-55966-152,r5-5644-56052-158,r5-5645-55967-205,r5-5645-56077-156,r5-5645-56081-151</td><td>r5-5633-55932-079,r5-5633-55965-079,r5-5633-55990-085,r5-5633-55991-085,r5-5633-55998-084,r5-5633-55999-084,r5-5634-55992-163,r5-5634-56019-163,r5-5634-56021-163,r5-5634-56022-163,r5-5644-56052-158,r5-5645-55967-205,r5-5645-56077-156,r5-5645-56081-151</td><td>317438 .. -1</td><td>317438 .. -1</td><td>4413.14</td><td>0.86136</td><td>-1.24931</td><td>13.2546</td><td>37.2328 .. 40.5766</td><td>9.20254</td><td>37.2328 .. 38.3623</td><td>7.71236</td><td>43.3201 .. 49.1349</td><td>6.88746</td><td>43.3201 .. 48.1304</td><td>5.72593</td><td>-4.6 .. -4.7389</td><td>0.443765</td><td>0.841395 .. 1.1037</td><td>0.366184</td><td>10.1 .. 9.7028</td><td>0.321191</td><td>51.3955 .. 37.2328</td><td>43.3201 .. 43.3201</td><td>9.75 .. 10.0</td><td>38.9875</td><td>1.271</td><td>4324.5</td><td>38.2032747045</td><td>-0.443186</td><td>0.108674</td><td>0.542314</td><td>0.141501</td><td>-0.160018</td><td>0.17672</td><td>-0.0281246</td><td>0.0905049</td></tr>\n",
       "<tr><td>apogee.apo25m.s.stars.4438.2M15113526+3551140</td><td>4438.2M15113526+3551140</td><td>apogee.apo25m.s.v603.4438.2M15113526+3551140</td><td>apStar-r5-2M15113526+3551140.fits</td><td>2M15113526+3551140</td><td>apo25m</td><td>4438</td><td>060+60</td><td>12.727</td><td>0.022</td><td>12.087</td><td>0.023</td><td>11.943</td><td>0.023</td><td>227.896946</td><td>35.853912</td><td>58.1029972284</td><td>59.059569804</td><td>-2147481584</td><td>0</td><td>APOGEE_WISE_DERED,APOGEE_SHORT</td><td>3</td><td>0</td><td>103.658</td><td>0</td><td></td><td>0</td><td></td><td>-246.106</td><td>0.205207</td><td>0.0596868</td><td>0.103419</td><td>-246.25</td><td>0.064028</td><td>0.0463703</td><td>0.0795209</td><td>4000.0</td><td>2.0</td><td>-1.5</td><td>21.0017</td><td>20.6342</td><td>0.248032</td><td>7.42645 .. 1.31936</td><td>1.92697 .. 0.812208</td><td>13.8156 .. 13.8156</td><td>0.0243987 .. 0.517016</td><td>stars</td><td>l25_6d</td><td>v603</td><td>0</td><td>4339.29 .. 0.234234</td><td>4250.4 .. 0.24121</td><td>8366.16 .. 0.00129721</td><td>12.547 .. 5.2595e-05</td><td>-0.40248 .. -1.4244</td><td>-0.40248 .. -1.3934</td><td>0.0906351 .. 0.0757988</td><td>0.0187555 .. 0.0199517</td><td>4339.29</td><td>1.34141</td><td>-1.46611</td><td>0.234234</td><td>91.4667</td><td>0.106893</td><td>0.0455147</td><td>0.0360168</td><td>3.39055</td><td>GK</td><td>0</td><td></td><td>0 .. 512</td><td>-1.22602</td><td>-1.07899</td><td>-1.64668</td><td>-1.25532</td><td>-1.52963</td><td>-1.14813</td><td>-1.54594</td><td>-1.79996</td><td>-1.4244</td><td>-0.67429</td><td>-0.995254</td><td>-0.827978</td><td>-0.670348</td><td>-1.35691</td><td>-1.51881</td><td>0.164132</td><td>0.108618</td><td>0.0906351</td><td>0.0494925</td><td>0.134848</td><td>0.0752616</td><td>0.0925863</td><td>0.294608</td><td>0.0757988</td><td>0.129479</td><td>0.0471102</td><td>0.0512466</td><td>0.0910338</td><td>0.0969811</td><td>0.25914</td><td>512</td><td>512</td><td>512</td><td>512</td><td>512</td><td>512</td><td>512</td><td>512</td><td>512</td><td>512</td><td>512</td><td>512</td><td>512</td><td>512</td><td>512</td><td>1.5876 .. 0.979035</td><td>512 .. 512</td><td>2M15113526+3551140</td><td>2MASS</td><td>-9999.99</td><td>-9999.99</td><td>-9999.99</td><td>-9999.99</td><td>-9999.99</td><td>-9999.99</td><td>-9999.99</td><td>-9999.99</td><td>-9999.99</td><td>-9999.99</td><td>-9999.99</td><td>-9999.99</td><td>-9999.99</td><td>-9999.99</td><td>11.939</td><td>0.021</td><td>11.927</td><td>0.0</td><td>0.10098</td><td>RJCE_WISE_OPS2</td><td>0.0899638</td><td>0.0173044</td><td>-1</td><td>1</td><td>-3.3</td><td>2.7</td><td>NOMAD</td><td>r5-5674-56702-126,r5-5674-56706-132,r5-5674-56733-132</td><td>r5-5674-56702-126,r5-5674-56706-132,r5-5674-56733-132</td><td>362129 .. -1</td><td>362129 .. -1</td><td>4339.29</td><td>1.34141</td><td>-1.25532</td><td>11.9383</td><td>17.6875 .. 18.2149</td><td>3.6308</td><td>16.8915 .. 17.5055</td><td>3.33053</td><td>13.4203 .. 14.822</td><td>1.53144</td><td>13.4203 .. 14.6895</td><td>1.43191</td><td>-4.3 .. -4.32303</td><td>0.417457</td><td>0.841395 .. 1.03729</td><td>0.230758</td><td>10.1 .. 9.76477</td><td>0.267597</td><td>16.1312 .. 14.7118</td><td>15.95 .. 13.4203</td><td>10.05 .. 9.5</td><td>17.6875</td><td>1.6919</td><td>4250.4</td><td>15.1706228169</td><td>-0.391364</td><td>0.103268</td><td>0.581026</td><td>0.138616</td><td>0.0292925</td><td>0.171431</td><td>0.107184</td><td>0.0900767</td></tr>\n",
       "<tr><td>apogee.apo25m.s.stars.4201.2M15204588+0055032</td><td>4201.2M15204588+0055032</td><td>apogee.apo25m.s.v603.4201.2M15204588+0055032</td><td>apStar-r5-2M15204588+0055032.fits</td><td>2M15204588+0055032</td><td>apo25m</td><td>4201</td><td>M5PAL5</td><td>13.099</td><td>0.03</td><td>12.438</td><td>0.022</td><td>12.331</td><td>0.024</td><td>230.191207</td><td>0.917572</td><td>3.05991555626</td><td>45.6329589709</td><td>-2147479408</td><td>0</td><td>APOGEE_WISE_DERED,APOGEE_WASH_GIANT,APOGEE_INTERMEDIATE</td><td>7</td><td>0</td><td>125.569</td><td>5636</td><td>BRIGHT_NEIGHBOR,PERSIST_HIGH,PERSIST_MED,PERSIST_JUMP_POS</td><td>0</td><td></td><td>-56.0901</td><td>0.814004</td><td>0.0899262</td><td>0.228253</td><td>-56.5383</td><td>0.831297</td><td>0.050279</td><td>0.109577</td><td>4500.0</td><td>2.0</td><td>-1.5</td><td>23.018</td><td>21.1618</td><td>0.492745</td><td>68.5785 .. 325.08</td><td>3.38079 .. 7.36071</td><td>22.4578 .. 22.4578</td><td>0.0 .. 0.0</td><td>stars</td><td>l25_6d</td><td>v603</td><td>0</td><td>4494.36 .. 0.190733</td><td>4406.0 .. 0.19336</td><td>8366.16 .. 0.00112072</td><td>32.655 .. 4.0376e-05</td><td>-0.3935 .. -1.15268</td><td>-0.3935 .. -1.141</td><td>0.0942182 .. 0.0717246</td><td>0.0110779 .. 0.0163349</td><td>4494.36</td><td>1.2723</td><td>-1.37451</td><td>0.190733</td><td>91.4667</td><td>0.106893</td><td>0.045245</td><td>0.0334772</td><td>4.66831</td><td>GK</td><td>0</td><td></td><td>0 .. 512</td><td>-1.1098</td><td>-0.518381</td><td>-1.5653</td><td>-1.1841</td><td>-1.2597</td><td>-1.13763</td><td>-1.65914</td><td>-1.05156</td><td>-1.15268</td><td>-0.55883</td><td>-0.869884</td><td>-0.756061</td><td>-0.848717</td><td>-1.45858</td><td>-2.40265</td><td>0.160077</td><td>0.0969728</td><td>0.0942182</td><td>0.0483995</td><td>0.125114</td><td>0.0692023</td><td>0.0907675</td><td>0.260186</td><td>0.0717246</td><td>0.127596</td><td>0.0490022</td><td>0.0522994</td><td>0.0881689</td><td>0.0997329</td><td>0.264232</td><td>512</td><td>512</td><td>512</td><td>512</td><td>512</td><td>512</td><td>512</td><td>512</td><td>512</td><td>512</td><td>512</td><td>512</td><td>512</td><td>512</td><td>768</td><td>4.07587 .. 1.51091</td><td>512 .. 512</td><td>2M15204588+0055032</td><td>2MASS</td><td>15.581</td><td>0.015</td><td>13.988</td><td>0.035</td><td>15.53</td><td>0.012</td><td>-9999.99</td><td>-9999.99</td><td>-9999.99</td><td>-9999.99</td><td>-9999.99</td><td>-9999.99</td><td>-9999.99</td><td>-9999.99</td><td>12.284</td><td>0.024</td><td>12.288</td><td>0.0</td><td>0.0917997</td><td>RJCE_WISE_OPS2</td><td>0.0954714</td><td>0.0545332</td><td>1</td><td>1</td><td>-0.7</td><td>-0.5</td><td>NOMAD</td><td>r5-5666-55966-033,r5-5666-56024-088,r5-5666-56050-076,r5-5666-56078-088,r5-5666-56082-069,r5-5667-55967-070,r5-5667-56051-069,r5-5667-56080-069</td><td>r5-5666-55966-033,r5-5666-56024-088,r5-5666-56078-088,r5-5666-56082-069,r5-5667-55967-070,r5-5667-56051-069,r5-5667-56080-069</td><td>368001 .. -1</td><td>368001 .. -1</td><td>4494.36</td><td>1.2723</td><td>-1.1841</td><td>12.3029</td><td>18.2209 .. 19.2594</td><td>4.29825</td><td>17.4008 .. 17.711</td><td>3.57021</td><td>17.6589 .. 19.9759</td><td>2.49711</td><td>17.6589 .. 19.4753</td><td>2.09796</td><td>-4.0 .. -4.07174</td><td>0.451772</td><td>0.841395 .. 1.0935</td><td>0.304998</td><td>10.1 .. 9.71097</td><td>0.305933</td><td>19.0796 .. 19.0796</td><td>18.1746 .. 20.9877</td><td>9.75 .. 10.05</td><td>18.2209</td><td>1.6313</td><td>4406.0</td><td>13.0256744536</td><td>-0.381197</td><td>0.105923</td><td>0.625273</td><td>0.136467</td><td>0.074301</td><td>0.167233</td><td>0.0464709</td><td>0.084448</td></tr>\n",
       "<tr><td>apogee.apo25m.s.stars.4523.2M17143232+2334018</td><td>4523.2M17143232+2334018</td><td>apogee.apo25m.s.v603.4523.2M17143232+2334018</td><td>apStar-r5-2M17143232+2334018.fits</td><td>2M17143232+2334018</td><td>apo25m</td><td>4523</td><td>045+30</td><td>12.448</td><td>0.021</td><td>11.661</td><td>0.022</td><td>11.522</td><td>0.018</td><td>258.634705</td><td>23.567186</td><td>45.368840921</td><td>31.1335076459</td><td>-2147481440</td><td>0</td><td>APOGEE_SFD_DERED,APOGEE_WASH_GIANT,APOGEE_SHORT</td><td>3</td><td>0</td><td>121.208</td><td>0</td><td></td><td>0</td><td></td><td>-21.9002</td><td>1.41088</td><td>0.030928</td><td>0.0508612</td><td>-22.0926</td><td>1.38348</td><td>0.0238888</td><td>0.0380478</td><td>4000.0</td><td>2.0</td><td>-1.5</td><td>23.6637</td><td>20.6281</td><td>0.18115</td><td>1581.86 .. 3043.41</td><td>28.1234 .. 39.009</td><td>13.8156 .. 13.8156</td><td>0.0 .. 0.0</td><td>stars</td><td>l25_6d</td><td>v603</td><td>0</td><td>4113.65 .. 0.248507</td><td>4024.0 .. 0.26181</td><td>8366.16 .. 0.00104463</td><td>6.136 .. 3.1777e-05</td><td>-0.54289 .. -1.27612</td><td>-0.54289 .. -1.217</td><td>0.0691868 .. 0.0680055</td><td>0.0121495 .. 0.013796</td><td>4113.65</td><td>0.927397</td><td>-1.37359</td><td>0.248507</td><td>91.4667</td><td>0.106893</td><td>0.042966</td><td>0.0323208</td><td>2.38237</td><td>GK</td><td>0</td><td></td><td>0 .. 512</td><td>-1.28518</td><td>-1.02748</td><td>-1.69519</td><td>-1.19805</td><td>-1.23419</td><td>-1.14562</td><td>-1.50311</td><td>-1.61961</td><td>-1.27612</td><td>-0.66778</td><td>-0.842885</td><td>-0.813618</td><td>-0.746094</td><td>-1.24855</td><td>-1.8402</td><td>0.132382</td><td>0.087125</td><td>0.0691868</td><td>0.0464965</td><td>0.1151</td><td>0.0623883</td><td>0.0711951</td><td>0.258758</td><td>0.0680055</td><td>0.113258</td><td>0.037636</td><td>0.0451856</td><td>0.0727133</td><td>0.0765996</td><td>0.189352</td><td>512</td><td>512</td><td>512</td><td>512</td><td>512</td><td>512</td><td>512</td><td>512</td><td>512</td><td>512</td><td>512</td><td>512</td><td>512</td><td>512</td><td>512</td><td>1.82071 .. 1.35753</td><td>512 .. 512</td><td>2M17143232+2334018</td><td>2MASS</td><td>15.4475</td><td>0.012</td><td>13.5149</td><td>0.0172039</td><td>15.4249</td><td>0.0096</td><td>-9999.99</td><td>-9999.99</td><td>-9999.99</td><td>-9999.99</td><td>-9999.99</td><td>-9999.99</td><td>-9999.99</td><td>-9999.99</td><td>11.438</td><td>0.021</td><td>11.442</td><td>0.021</td><td>0.0172625</td><td>SFD</td><td>0.158814</td><td>0.0571605</td><td>1</td><td>1</td><td>0.7</td><td>-0.8</td><td>NOMAD</td><td>r5-6847-56408-227,r5-6847-56433-227,r5-6847-56722-221</td><td>r5-6847-56408-227,r5-6847-56433-227,r5-6847-56722-221</td><td>399652 .. -1</td><td>399652 .. -1</td><td>4113.65</td><td>0.927397</td><td>-1.19805</td><td>11.6356</td><td>22.2391 .. 22.7531</td><td>3.91818</td><td>20.2823 .. 21.6178</td><td>3.66831</td><td>19.1146 .. 19.7756</td><td>1.9002</td><td>18.0454 .. 19.5055</td><td>1.6721</td><td>-5.1 .. -5.11834</td><td>0.367688</td><td>0.944061 .. 1.01982</td><td>0.217672</td><td>10.1 .. 9.78914</td><td>0.24513</td><td>25.5339 .. 25.5339</td><td>17.5334 .. 18.5723</td><td>10.0 .. 9.65</td><td>22.2391</td><td>1.3289</td><td>4024.0</td><td>11.4983765237</td><td>-0.497143</td><td>0.0833591</td><td>0.530267</td><td>0.122431</td><td>-0.0871375</td><td>0.14031</td><td>0.0524321</td><td>0.0778089</td></tr>\n",
       "</table>"
      ],
      "text/plain": [
       "<Table masked=False length=5>\n",
       "                  APSTAR_ID                   ...  mgfe_err\n",
       "                   str1440                    ...  float32 \n",
       "--------------------------------------------- ... ---------\n",
       "apogee.apo25m.s.stars.4485.2M12555505+4043433 ... 0.0827879\n",
       "apogee.apo25m.s.stars.4128.2M13160763+1707516 ... 0.0905049\n",
       "apogee.apo25m.s.stars.4438.2M15113526+3551140 ... 0.0900767\n",
       "apogee.apo25m.s.stars.4201.2M15204588+0055032 ...  0.084448\n",
       "apogee.apo25m.s.stars.4523.2M17143232+2334018 ... 0.0778089"
      ]
     },
     "execution_count": 18,
     "metadata": {},
     "output_type": "execute_result"
    }
   ],
   "source": [
    "d9"
   ]
  },
  {
   "cell_type": "code",
   "execution_count": null,
   "metadata": {
    "collapsed": false
   },
   "outputs": [],
   "source": [
    "plt.plot(d6['dist'],d6['nfe'],'k.')\n",
    "plt.plot(d8['dist'],d8['nfe'],'ro')\n",
    "plt.plot(d8inv['dist'],d8inv['nfe'],'go')"
   ]
  },
  {
   "cell_type": "code",
   "execution_count": null,
   "metadata": {
    "collapsed": false
   },
   "outputs": [],
   "source": [
    "np.mean(d7inv['alfe'])"
   ]
  },
  {
   "cell_type": "code",
   "execution_count": null,
   "metadata": {
    "collapsed": true
   },
   "outputs": [],
   "source": [
    "d7"
   ]
  },
  {
   "cell_type": "code",
   "execution_count": null,
   "metadata": {
    "collapsed": true
   },
   "outputs": [],
   "source": []
  },
  {
   "cell_type": "code",
   "execution_count": null,
   "metadata": {
    "collapsed": true
   },
   "outputs": [],
   "source": []
  },
  {
   "cell_type": "code",
   "execution_count": null,
   "metadata": {
    "collapsed": true
   },
   "outputs": [],
   "source": []
  },
  {
   "cell_type": "markdown",
   "metadata": {},
   "source": [
    "Figure out if any of the previously noted GC migrants are among the APOGEE stars with reasonable parameters (subset d5 here)\n",
    "Answer: No."
   ]
  },
  {
   "cell_type": "code",
   "execution_count": 26,
   "metadata": {
    "collapsed": false
   },
   "outputs": [
    {
     "name": "stderr",
     "output_type": "stream",
     "text": [
      "WARNING: UnitsWarning: '[Sun]' did not parse as fits unit: Invalid character at col 0 [astropy.units.core]\n",
      "WARNING:astropy:UnitsWarning: '[Sun]' did not parse as fits unit: Invalid character at col 0\n",
      "WARNING: UnitsWarning: '[cm/s2]' did not parse as fits unit: Invalid character at col 0 [astropy.units.core]\n",
      "WARNING:astropy:UnitsWarning: '[cm/s2]' did not parse as fits unit: Invalid character at col 0\n"
     ]
    }
   ],
   "source": [
    "m11=Table.read('/Users/sarah/active/programs/apogee-migrants/data/segue_migrants.fits')"
   ]
  },
  {
   "cell_type": "code",
   "execution_count": 27,
   "metadata": {
    "collapsed": false
   },
   "outputs": [],
   "source": [
    "lb=[]\n",
    "for item in m11['SDSS']:\n",
    "    lb.append(item[1:].replace('.',''))"
   ]
  },
  {
   "cell_type": "code",
   "execution_count": 28,
   "metadata": {
    "collapsed": false
   },
   "outputs": [],
   "source": [
    "lb=Column(data=lb,name='abbrevID')"
   ]
  },
  {
   "cell_type": "code",
   "execution_count": 29,
   "metadata": {
    "collapsed": true
   },
   "outputs": [],
   "source": [
    "m11.add_column(lb)"
   ]
  },
  {
   "cell_type": "code",
   "execution_count": null,
   "metadata": {
    "collapsed": false
   },
   "outputs": [],
   "source": [
    "m11[0:4]"
   ]
  },
  {
   "cell_type": "code",
   "execution_count": null,
   "metadata": {
    "collapsed": false,
    "scrolled": true
   },
   "outputs": [],
   "source": [
    "d5[4150:4152]"
   ]
  },
  {
   "cell_type": "code",
   "execution_count": 30,
   "metadata": {
    "collapsed": false
   },
   "outputs": [],
   "source": [
    "lc=[]\n",
    "for item in d5['APOGEE_ID']:\n",
    "    lc.append(item[2:])"
   ]
  },
  {
   "cell_type": "code",
   "execution_count": 31,
   "metadata": {
    "collapsed": false
   },
   "outputs": [],
   "source": [
    "lc=Column(data=lc,name='abbrevID')"
   ]
  },
  {
   "cell_type": "code",
   "execution_count": 32,
   "metadata": {
    "collapsed": true
   },
   "outputs": [],
   "source": [
    "d5.add_column(lc)"
   ]
  },
  {
   "cell_type": "code",
   "execution_count": 33,
   "metadata": {
    "collapsed": true
   },
   "outputs": [],
   "source": [
    "reobs=join(m11,d5,keys='abbrevID')"
   ]
  },
  {
   "cell_type": "code",
   "execution_count": 34,
   "metadata": {
    "collapsed": false
   },
   "outputs": [
    {
     "data": {
      "text/html": [
       "&lt;Table masked=False length=0&gt;\n",
       "<table id=\"table13065742152\">\n",
       "<thead><tr><th>_RAJ2000</th><th>_DEJ2000</th><th>SDSS</th><th>Plate</th><th>MJD</th><th>Fiber</th><th>g0</th><th>__g-r_0</th><th>__Fe_H_</th><th>Teff</th><th>logg_1</th><th>S</th><th>S_CN_</th><th>S_CH_</th><th>CN</th><th>rMAG</th><th>Dist</th><th>rGC</th><th>Sloan</th><th>RAJ2000</th><th>DEJ2000</th><th>abbrevID</th><th>APSTAR_ID</th><th>TARGET_ID</th><th>ASPCAP_ID</th><th>FILE</th><th>APOGEE_ID</th><th>TELESCOPE</th><th>LOCATION_ID</th><th>FIELD</th><th>J</th><th>J_ERR</th><th>H</th><th>H_ERR</th><th>K</th><th>K_ERR</th><th>RA</th><th>DEC</th><th>GLON</th><th>GLAT</th><th>APOGEE_TARGET1</th><th>APOGEE_TARGET2</th><th>TARGFLAGS</th><th>NVISITS</th><th>COMMISS</th><th>SNR</th><th>STARFLAG</th><th>STARFLAGS</th><th>ANDFLAG</th><th>ANDFLAGS</th><th>VHELIO_AVG</th><th>VSCATTER</th><th>VERR</th><th>VERR_MED</th><th>SYNTHVHELIO_AVG</th><th>SYNTHVSCATTER</th><th>SYNTHVERR</th><th>SYNTHVERR_MED</th><th>RV_TEFF</th><th>RV_LOGG</th><th>RV_FEH</th><th>RV_CCFWHM</th><th>RV_AUTOFWHM</th><th>SYNTHSCATTER</th><th>STABLERV_CHI2 [2]</th><th>STABLERV_RCHI2 [2]</th><th>CHI2_THRESHOLD [2]</th><th>STABLERV_CHI2_PROB [2]</th><th>APSTAR_VERSION</th><th>ASPCAP_VERSION</th><th>RESULTS_VERSION</th><th>EXTRATARG</th><th>PARAM [7]</th><th>FPARAM [7]</th><th>PARAM_COV [7,7]</th><th>FPARAM_COV [7,7]</th><th>ELEM [15]</th><th>FELEM [15]</th><th>ELEM_ERR [15]</th><th>FELEM_ERR [15]</th><th>TEFF</th><th>LOGG</th><th>PARAM_M_H</th><th>PARAM_ALPHA_M</th><th>TEFF_ERR</th><th>LOGG_ERR</th><th>PARAM_M_H_ERR</th><th>PARAM_ALPHA_M_ERR</th><th>ASPCAP_CHI2</th><th>ASPCAP_CLASS</th><th>ASPCAPFLAG</th><th>ASPCAPFLAGS</th><th>PARAMFLAG [7]</th><th>AL_H</th><th>CA_H</th><th>C_H</th><th>FE_H</th><th>K_H</th><th>MG_H</th><th>MN_H</th><th>NA_H</th><th>NI_H</th><th>N_H</th><th>O_H</th><th>SI_H</th><th>S_H</th><th>TI_H</th><th>V_H</th><th>AL_H_ERR</th><th>CA_H_ERR</th><th>C_H_ERR</th><th>FE_H_ERR</th><th>K_H_ERR</th><th>MG_H_ERR</th><th>MN_H_ERR</th><th>NA_H_ERR</th><th>NI_H_ERR</th><th>N_H_ERR</th><th>O_H_ERR</th><th>SI_H_ERR</th><th>S_H_ERR</th><th>TI_H_ERR</th><th>V_H_ERR</th><th>AL_H_FLAG</th><th>CA_H_FLAG</th><th>C_H_FLAG</th><th>FE_H_FLAG</th><th>K_H_FLAG</th><th>MG_H_FLAG</th><th>MN_H_FLAG</th><th>NA_H_FLAG</th><th>NI_H_FLAG</th><th>N_H_FLAG</th><th>O_H_FLAG</th><th>SI_H_FLAG</th><th>S_H_FLAG</th><th>TI_H_FLAG</th><th>V_H_FLAG</th><th>ELEM_CHI2 [15]</th><th>ELEMFLAG [15]</th><th>REDUCTION_ID</th><th>SRC_H</th><th>WASH_M</th><th>WASH_M_ERR</th><th>WASH_T2</th><th>WASH_T2_ERR</th><th>DDO51</th><th>DDO51_ERR</th><th>IRAC_3_6</th><th>IRAC_3_6_ERR</th><th>IRAC_4_5</th><th>IRAC_4_5_ERR</th><th>IRAC_5_8</th><th>IRAC_5_8_ERR</th><th>IRAC_8_0</th><th>IRAC_8_0_ERR</th><th>WISE_4_5</th><th>WISE_4_5_ERR</th><th>TARG_4_5</th><th>TARG_4_5_ERR</th><th>AK_TARG</th><th>AK_TARG_METHOD</th><th>AK_WISE</th><th>SFD_EBV</th><th>WASH_DDO51_GIANT_FLAG</th><th>WASH_DDO51_STAR_FLAG</th><th>PMRA</th><th>PMDEC</th><th>PM_SRC</th><th>ALL_VISITS</th><th>VISITS</th><th>ALL_VISIT_PK [50]</th><th>VISIT_PK [50]</th><th>OBSTE</th><th>OBSLOGG</th><th>OBSFEH</th><th>OBSMAG</th><th>DISO [3]</th><th>DISO_SIG</th><th>DISO_GAL [3]</th><th>DISO_SIG_GAL</th><th>DMASS [3]</th><th>DMASS_SIG</th><th>DMASS_GAL [3]</th><th>DMASS_SIG_GAL</th><th>MH [3]</th><th>MH_SIG</th><th>MASS [3]</th><th>MASS_SIG</th><th>AGE [3]</th><th>AGE_SIG</th><th>DISO_RAN [100]</th><th>DMASS_RAN [100]</th><th>AGE_RAN [100]</th><th>dist</th><th>logg_2</th><th>teff</th><th>z_height</th></tr></thead>\n",
       "<thead><tr><th>deg</th><th>deg</th><th></th><th></th><th></th><th></th><th>mag</th><th>mag</th><th>[Sun]</th><th>K</th><th>[cm/s2]</th><th></th><th>mag</th><th>mag</th><th></th><th>mag</th><th>kpc</th><th>kpc</th><th></th><th>deg</th><th>deg</th><th></th><th></th><th></th><th></th><th></th><th></th><th></th><th></th><th></th><th></th><th></th><th></th><th></th><th></th><th></th><th></th><th></th><th></th><th></th><th></th><th></th><th></th><th></th><th></th><th></th><th></th><th></th><th></th><th></th><th></th><th></th><th></th><th></th><th></th><th></th><th></th><th></th><th></th><th></th><th></th><th></th><th></th><th></th><th></th><th></th><th></th><th></th><th></th><th></th><th></th><th></th><th></th><th></th><th></th><th></th><th></th><th></th><th></th><th></th><th></th><th></th><th></th><th></th><th></th><th></th><th></th><th></th><th></th><th></th><th></th><th></th><th></th><th></th><th></th><th></th><th></th><th></th><th></th><th></th><th></th><th></th><th></th><th></th><th></th><th></th><th></th><th></th><th></th><th></th><th></th><th></th><th></th><th></th><th></th><th></th><th></th><th></th><th></th><th></th><th></th><th></th><th></th><th></th><th></th><th></th><th></th><th></th><th></th><th></th><th></th><th></th><th></th><th></th><th></th><th></th><th></th><th></th><th></th><th></th><th></th><th></th><th></th><th></th><th></th><th></th><th></th><th></th><th></th><th></th><th></th><th></th><th></th><th></th><th></th><th></th><th></th><th></th><th></th><th></th><th></th><th></th><th></th><th></th><th></th><th></th><th></th><th></th><th></th><th></th><th></th><th></th><th></th><th></th><th></th><th></th><th></th><th></th><th></th><th></th><th></th><th></th><th></th><th></th><th></th><th></th><th></th><th></th><th></th><th></th><th></th><th></th><th></th><th></th><th></th><th></th><th></th><th></th></tr></thead>\n",
       "<thead><tr><th>float64</th><th>float64</th><th>str608</th><th>int16</th><th>int32</th><th>int16</th><th>float32</th><th>float32</th><th>float32</th><th>int16</th><th>float32</th><th>str32</th><th>float32</th><th>float32</th><th>str32</th><th>float32</th><th>float32</th><th>float32</th><th>str160</th><th>float64</th><th>float64</th><th>str512</th><th>str1440</th><th>str1088</th><th>str1408</th><th>str1088</th><th>str576</th><th>str256</th><th>int16</th><th>str512</th><th>float32</th><th>float32</th><th>float32</th><th>float32</th><th>float32</th><th>float32</th><th>float64</th><th>float64</th><th>float64</th><th>float64</th><th>int32</th><th>int32</th><th>str3712</th><th>int32</th><th>int16</th><th>float32</th><th>int32</th><th>str4128</th><th>int32</th><th>str1888</th><th>float32</th><th>float32</th><th>float32</th><th>float32</th><th>float32</th><th>float32</th><th>float32</th><th>float32</th><th>float32</th><th>float32</th><th>float32</th><th>float32</th><th>float32</th><th>float32</th><th>float32</th><th>float32</th><th>float32</th><th>float32</th><th>str160</th><th>str192</th><th>str128</th><th>int16</th><th>float32</th><th>float32</th><th>float32</th><th>float32</th><th>float32</th><th>float32</th><th>float32</th><th>float32</th><th>float32</th><th>float32</th><th>float32</th><th>float32</th><th>float32</th><th>float32</th><th>float32</th><th>float32</th><th>float32</th><th>str64</th><th>int32</th><th>str4896</th><th>int32</th><th>float32</th><th>float32</th><th>float32</th><th>float32</th><th>float32</th><th>float32</th><th>float32</th><th>float32</th><th>float32</th><th>float32</th><th>float32</th><th>float32</th><th>float32</th><th>float32</th><th>float32</th><th>float32</th><th>float32</th><th>float32</th><th>float32</th><th>float32</th><th>float32</th><th>float32</th><th>float32</th><th>float32</th><th>float32</th><th>float32</th><th>float32</th><th>float32</th><th>float32</th><th>float32</th><th>int32</th><th>int32</th><th>int32</th><th>int32</th><th>int32</th><th>int32</th><th>int32</th><th>int32</th><th>int32</th><th>int32</th><th>int32</th><th>int32</th><th>int32</th><th>int32</th><th>int32</th><th>float32</th><th>int32</th><th>str576</th><th>str384</th><th>float32</th><th>float32</th><th>float32</th><th>float32</th><th>float32</th><th>float32</th><th>float32</th><th>float32</th><th>float32</th><th>float32</th><th>float32</th><th>float32</th><th>float32</th><th>float32</th><th>float32</th><th>float32</th><th>float32</th><th>float32</th><th>float32</th><th>str544</th><th>float32</th><th>float32</th><th>int16</th><th>int16</th><th>float32</th><th>float32</th><th>str640</th><th>str23584</th><th>str21280</th><th>int32</th><th>int32</th><th>float32</th><th>float32</th><th>float32</th><th>float32</th><th>float32</th><th>float32</th><th>float32</th><th>float32</th><th>float32</th><th>float32</th><th>float32</th><th>float32</th><th>float32</th><th>float32</th><th>float32</th><th>float32</th><th>float32</th><th>float32</th><th>float32</th><th>float32</th><th>float32</th><th>float32</th><th>float32</th><th>float32</th><th>float64</th></tr></thead>\n",
       "</table>"
      ],
      "text/plain": [
       "<Table masked=False length=0>\n",
       "_RAJ2000 _DEJ2000  SDSS  Plate  MJD  ...   dist   logg_2   teff  z_height\n",
       "  deg      deg                       ...                                 \n",
       "float64  float64  str608 int16 int32 ... float32 float32 float32 float64 \n",
       "-------- -------- ------ ----- ----- ... ------- ------- ------- --------"
      ]
     },
     "execution_count": 34,
     "metadata": {},
     "output_type": "execute_result"
    }
   ],
   "source": [
    "reobs"
   ]
  },
  {
   "cell_type": "code",
   "execution_count": null,
   "metadata": {
    "collapsed": true
   },
   "outputs": [],
   "source": []
  },
  {
   "cell_type": "markdown",
   "metadata": {
    "collapsed": true
   },
   "source": [
    "Useful figures"
   ]
  },
  {
   "cell_type": "code",
   "execution_count": null,
   "metadata": {
    "collapsed": false
   },
   "outputs": [],
   "source": [
    "plt.figure(1)\n",
    "plt.figure(figsize=(6,6))\n",
    "plt.plot(d1['FPARAM'][:,0],d1['FPARAM'][:,1],'k.')\n",
    "plt.xlim(7200.,3600.)\n",
    "plt.ylim(4.,-0.5)\n",
    "plt.plot(d3['FPARAM'][:,0],d3['FPARAM'][:,1],'.',color='dodgerblue')\n",
    "plt.plot(d5['teff'],d5['logg'],'.',color='darkorchid')\n",
    "plt.plot(d6['teff'],d6['logg'],'.',color='lawngreen')\n",
    "plt.xlabel('T$_{eff}$')\n",
    "plt.ylabel('log(g)')\n",
    "#plt.show()\n",
    "#plt.savefig('/Users/Sarah/Desktop/Ongoing/Swinburne_Nov15/selection1.eps')\n",
    "#plt.savefig(path1+'paper/figures/selection1.eps')\n",
    "plt.savefig('/Users/Sarah/Desktop/Ongoing/Leiden/selection1.eps')"
   ]
  },
  {
   "cell_type": "code",
   "execution_count": 92,
   "metadata": {
    "collapsed": false
   },
   "outputs": [
    {
     "data": {
      "text/plain": [
       "<matplotlib.figure.Figure at 0x10789e9e8>"
      ]
     },
     "metadata": {},
     "output_type": "display_data"
    },
    {
     "data": {
      "image/png": "[encoded data removed]",
      "text/plain": [
       "<matplotlib.figure.Figure at 0x10789ecc0>"
      ]
     },
     "metadata": {},
     "output_type": "display_data"
    }
   ],
   "source": [
    "plt.figure(1)\n",
    "plt.figure(figsize=(6,6))\n",
    "#plt.plot(d1['FE_H'],(d1['DISO'][:,1])*np.sin((np.pi*np.absolute(d1['GLAT'])/180)),'k.')\n",
    "plt.xlim(-2.3,0.7)\n",
    "plt.ylim(0,50)\n",
    "plt.plot(d3['FE_H'],(d3['DISO'][:,1])*np.sin((np.pi*np.absolute(d3['GLAT'])/180)),'.',color='dodgerblue')\n",
    "plt.plot(d5['FE_H'],d5['z_height'],'.',color='mediumorchid')\n",
    "plt.plot(d6['FE_H'],d6['z_height'],'.',color='lawngreen')\n",
    "plt.xlabel('[Fe/H]')\n",
    "plt.ylabel('|z|')\n",
    "#plt.show()\n",
    "#plt.savefig('/Users/Sarah/lapdesk/Ongoing/SIfA-16/selection2.tiff')\n",
    "#plt.savefig(path1+'paper/figures/selection2.eps')\n",
    "#plt.savefig('/Users/Sarah/Desktop/Ongoing/Leiden/selection2.eps')"
   ]
  },
  {
   "cell_type": "code",
   "execution_count": null,
   "metadata": {
    "collapsed": false
   },
   "outputs": [],
   "source": [
    "plt.figure(1)\n",
    "plt.figure(figsize=(6,6))\n",
    "#plt.plot((d1['DISO'][:,1])*np.sin((np.pi*np.absolute(d1['GLAT'])/180)),d1['N_H']-d1['FE_H'],'k.')\n",
    "plt.xlim(0.,50.)\n",
    "plt.ylim(-1.2,1.2)\n",
    "plt.plot((d3['DISO'][:,1])*np.sin((np.pi*np.absolute(d3['GLAT'])/180)),d3['N_H']-d3['FE_H'],'.',color='dodgerblue')\n",
    "plt.plot(d5['z_height'],d5['N_H']-d5['FE_H'],'.',color='mediumorchid')\n",
    "plt.plot(d6['z_height'],d6['N_H']-d6['FE_H'],'.',color='lawngreen')\n",
    "plt.xlabel('D')\n",
    "plt.ylabel('[N/Fe]')\n",
    "#plt.show()\n",
    "#plt.savefig('/Users/Sarah/Desktop/Ongoing/Swinburne_Nov15/selection3.eps')\n",
    "plt.savefig(path1+'paper/figures/selection3.eps')"
   ]
  },
  {
   "cell_type": "code",
   "execution_count": 65,
   "metadata": {
    "collapsed": false
   },
   "outputs": [
    {
     "name": "stdout",
     "output_type": "stream",
     "text": [
      "156593 135988 20605 132928 3060 132897 31 87252 253\n"
     ]
    }
   ],
   "source": [
    "print(len(d1),len(d2),len(d1)-len(d2),len(d3),len(d2)-len(d3),len(d4),len(d3)-len(d4),len(d5),len(d6))"
   ]
  },
  {
   "cell_type": "markdown",
   "metadata": {},
   "source": [
    "Choose which abundances to use for tagging"
   ]
  },
  {
   "cell_type": "code",
   "execution_count": 13,
   "metadata": {
    "collapsed": false
   },
   "outputs": [
    {
     "data": {
      "image/png": "[encoded data removed]",
      "text/plain": [
       "<matplotlib.figure.Figure at 0x30efd72e8>"
      ]
     },
     "metadata": {},
     "output_type": "display_data"
    }
   ],
   "source": [
    "f,(ax1,ax2,ax3,ax4)=plt.subplots(4,sharex=True,sharey=True)\n",
    "ax1.plot(d6['teff'],d6['cfe'],'.k')\n",
    "ax1.set_ylabel('[C/Fe]')\n",
    "ax2.plot(d6['teff'],d6['nfe'],'.k')\n",
    "#ax1.plot(cm3['teff'],cm3['nfe'],'o',color='dodgerblue')\n",
    "#ax1.plot(cm13['teff'],cm13['nfe'],'s',color='darkorchid')\n",
    "ax2.set_ylabel('[N/Fe]')\n",
    "ax3.plot(d6['teff'],d6['mgfe'],'.k')\n",
    "#ax2.plot(cm3['teff'],cm3['mgfe'],'o',color='dodgerblue')\n",
    "#ax2.plot(cm13['teff'],cm13['mgfe'],'s',color='darkorchid')\n",
    "ax3.set_ylabel('[Mg/Fe]')\n",
    "ax4.plot(d6['teff'],d6['alfe'],'.k')\n",
    "#ax3.plot(cm3['teff'],cm3['alfe'],'o',color='dodgerblue')\n",
    "#ax3.plot(cm13['teff'],cm13['alfe'],'s',color='darkorchid')\n",
    "ax4.set_ylabel('[Al/Fe]')\n",
    "plt.xlabel('$T_{eff}$')\n",
    "f.subplots_adjust(hspace=0)\n",
    "plt.setp([a.get_xticklabels() for a in f.axes[:-1]],visible=False)\n",
    "plt.ylim(-1,1.5)\n",
    "plt.show()\n",
    "#plt.savefig(path1+'paper/figures/ff5.eps')\n",
    "#plt.savefig('/Users/sarah/Desktop/Ongoing/Leiden/chemtag1a.eps')"
   ]
  },
  {
   "cell_type": "code",
   "execution_count": 17,
   "metadata": {
    "collapsed": false
   },
   "outputs": [
    {
     "data": {
      "image/png": "[encoded data removed]",
      "text/plain": [
       "<matplotlib.figure.Figure at 0x108204748>"
      ]
     },
     "metadata": {},
     "output_type": "display_data"
    }
   ],
   "source": [
    "f,(ax1,ax2,ax3,ax4)=plt.subplots(4,sharex=True,sharey=True)\n",
    "ax1.plot(d6['teff'],d6['cfe'],'.k')\n",
    "ax1.plot(cm3['teff'],cm3['cfe'],'o',color='dodgerblue')\n",
    "ax1.plot(cm13['teff'],cm13['cfe'],'s',color='darkorchid')\n",
    "ax1.plot(cm2['teff'],cm2['cfe'],'d',color='turquoise')\n",
    "ax1.set_xlim(3700,4500)\n",
    "ax1.set_ylabel('[C/Fe]')\n",
    "ax2.plot(d6['teff'],d6['nfe'],'.k')\n",
    "ax2.plot(cm3['teff'],cm3['nfe'],'o',color='dodgerblue')\n",
    "ax2.plot(cm13['teff'],cm13['nfe'],'s',color='darkorchid')\n",
    "ax2.plot(cm2['teff'],cm2['nfe'],'d',color='turquoise')\n",
    "#ax2.ylim(-0.5,1.4)\n",
    "ax2.set_ylabel('[N/Fe]')\n",
    "ax3.plot(d6['teff'],d6['mgfe'],'.k')\n",
    "ax3.plot(cm3['teff'],cm3['mgfe'],'o',color='dodgerblue')\n",
    "ax3.plot(cm13['teff'],cm13['mgfe'],'s',color='darkorchid')\n",
    "ax3.plot(cm2['teff'],cm2['mgfe'],'d',color='turquoise')\n",
    "#ax3.ylim(-1,0.9)\n",
    "ax3.set_ylabel('[Mg/Fe]')\n",
    "ax4.plot(d6['teff'],d6['alfe'],'.k')\n",
    "ax4.plot(cm3['teff'],cm3['alfe'],'o',color='dodgerblue')\n",
    "ax4.plot(cm13['teff'],cm13['alfe'],'s',color='darkorchid')\n",
    "ax4.plot(cm2['teff'],cm2['alfe'],'d',color='turquoise')\n",
    "#ax4.ylim(-1.1,1.5)\n",
    "ax4.set_ylabel('[Al/Fe]')\n",
    "plt.xlabel('$T_{eff}$')\n",
    "f.subplots_adjust(hspace=0)\n",
    "plt.setp([a.get_xticklabels() for a in f.axes[:-1]],visible=False)\n",
    "plt.ylim(-1,1.5)\n",
    "plt.show()\n",
    "#plt.savefig(path1+'paper/figures/ff5.eps')\n",
    "#plt.savefig('/Users/sarah/Desktop/Ongoing/Leiden/chemtag1b.eps')"
   ]
  },
  {
   "cell_type": "code",
   "execution_count": null,
   "metadata": {
    "collapsed": false
   },
   "outputs": [],
   "source": [
    "plt.plot(d6['nfe'],d6['alfe'],'.k')\n",
    "#plt.plot(cm3['nfe'],cm3['alfe'],'o',color='dodgerblue')\n",
    "#plt.plot(cm13['nfe'],cm13['alfe'],'s',color='darkorchid')\n",
    "plt.xlabel('[N/Fe]')\n",
    "plt.ylabel('[Al/Fe]')\n",
    "plt.xlim(-0.3,1.1)\n",
    "plt.ylim(-0.8,1.2)\n",
    "#plt.show()\n",
    "#plt.savefig(path1+'paper/figures/ff6.eps')\n",
    "plt.savefig('/Users/sarah/Desktop/Ongoing/Leiden/chemtag2a.eps')"
   ]
  },
  {
   "cell_type": "code",
   "execution_count": null,
   "metadata": {
    "collapsed": false
   },
   "outputs": [],
   "source": [
    "plt.plot(d6['nfe'],d6['alfe'],'.k')\n",
    "plt.plot(cm3['nfe'],cm3['alfe'],'o',color='dodgerblue')\n",
    "plt.plot(cm13['nfe'],cm13['alfe'],'s',color='darkorchid')\n",
    "plt.xlabel('[N/Fe]')\n",
    "plt.ylabel('[Al/Fe]')\n",
    "plt.xlim(-0.3,1.1)\n",
    "plt.ylim(-0.8,1.2)\n",
    "#plt.show()\n",
    "#plt.savefig(path1+'paper/figures/ff6.eps')\n",
    "plt.savefig('/Users/sarah/Desktop/Ongoing/Leiden/chemtag2a.eps')"
   ]
  },
  {
   "cell_type": "code",
   "execution_count": null,
   "metadata": {
    "collapsed": false
   },
   "outputs": [],
   "source": [
    "plt.figure(1)\n",
    "plt.figure(figsize=(4,3))\n",
    "plt.plot(d7inv['dist'],d7inv['nfe'],'.k')\n",
    "plt.plot(d7['dist'],d7['nfe'],'sb')\n",
    "plt.xlabel('D')\n",
    "plt.ylabel('[N/Fe]')"
   ]
  },
  {
   "cell_type": "markdown",
   "metadata": {},
   "source": [
    "Calculate Galactic coordinates"
   ]
  },
  {
   "cell_type": "code",
   "execution_count": 111,
   "metadata": {
    "collapsed": false
   },
   "outputs": [],
   "source": [
    "rdd6inv=coord.ICRS(ra=d6inv['RA']*u.degree,dec=d6inv['DEC']*u.degree,distance=d6inv['dist']*u.kpc)\n",
    "xyz6inv=rdd6inv.transform_to(coord.Galactocentric) \n",
    "rdd7inv=coord.ICRS(ra=d7inv['RA']*u.degree,dec=d7inv['DEC']*u.degree,distance=d7inv['dist']*u.kpc)\n",
    "xyz7inv=rdd7inv.transform_to(coord.Galactocentric)\n",
    "#rddtag=coord.ICRS(ra=(d7['RA'])*u.degree,dec=(d7['DEC'])*u.degree,distance=(d7['dist'])*u.kpc)\n",
    "#xyztag=rddtag.transform_to(coord.Galactocentric) \n",
    "rdd8inv=coord.ICRS(ra=d8inv['RA']*u.degree,dec=d8inv['DEC']*u.degree,distance=d8inv['dist']*u.kpc)\n",
    "xyz8inv=rdd8inv.transform_to(coord.Galactocentric)\n",
    "rdd9inv=coord.ICRS(ra=d9inv['RA']*u.degree,dec=d9inv['DEC']*u.degree,distance=d9inv['dist']*u.kpc)\n",
    "xyz9inv=rdd9inv.transform_to(coord.Galactocentric)\n",
    "rdd9=coord.ICRS(ra=(d9['RA'])*u.degree,dec=(d9['DEC'])*u.degree,distance=(d9['dist'])*u.kpc)\n",
    "xyz9=rdd9.transform_to(coord.Galactocentric) \n",
    "#rddtaginv=coord.ICRS(ra=ctaginv['RA']*u.degree,dec=ctaginv['DEC']*u.degree,distance=ctaginv['dist']*u.kpc)\n",
    "#xyztaginv=rddtaginv.transform_to(coord.Galactocentric)"
   ]
  },
  {
   "cell_type": "code",
   "execution_count": 113,
   "metadata": {
    "collapsed": false
   },
   "outputs": [
    {
     "data": {
      "text/plain": [
       "<matplotlib.figure.Figure at 0x30ea28898>"
      ]
     },
     "metadata": {},
     "output_type": "display_data"
    },
    {
     "data": {
      "image/png": "[encoded data removed]",
      "text/plain": [
       "<matplotlib.figure.Figure at 0x30ea28128>"
      ]
     },
     "metadata": {},
     "output_type": "display_data"
    }
   ],
   "source": [
    "#ax1 = plt.subplot(121)\n",
    "plt.figure(1)\n",
    "plt.figure(figsize=(6,6))\n",
    "plt.plot(xyz6inv.x,xyz6inv.y,'.',color='grey')\n",
    "#plt.plot(xyz7inv.x,xyz7inv.y,'o',color='darkorchid',ms=8)\n",
    "plt.plot(xyz7inv.x,xyz7inv.y,'o',color='red',ms=5)\n",
    "plt.plot(xyz9.x,xyz9.y,'s',color='dodgerblue',ms=8)\n",
    "plt.xlabel('X')\n",
    "plt.ylabel('Y')\n",
    "#plt.show()\n",
    "#plt.savefig('/Users/Sarah/Desktop/Ongoing/Swinburne_Nov15/tag_X_Y.eps')\n",
    "#plt.savefig(path1+'paper/figures/ff2.tiff')\n",
    "#plt.savefig('/Users/Sarah/lapdesk/Ongoing/SIfA-16/tag_X_Y.tiff')"
   ]
  },
  {
   "cell_type": "code",
   "execution_count": 115,
   "metadata": {
    "collapsed": false
   },
   "outputs": [
    {
     "data": {
      "text/plain": [
       "<matplotlib.figure.Figure at 0x30aa9dc18>"
      ]
     },
     "metadata": {},
     "output_type": "display_data"
    },
    {
     "data": {
      "image/png": "[encoded data removed]",
      "text/plain": [
       "<matplotlib.figure.Figure at 0x30aa9db00>"
      ]
     },
     "metadata": {},
     "output_type": "display_data"
    }
   ],
   "source": [
    "plt.figure(1)\n",
    "plt.figure(figsize=(6,6))\n",
    "plt.plot(xyz6inv.x,xyz6inv.z,'.',color='grey')\n",
    "#plt.plot(xyz7inv.x,xyz7inv.z,'o',color='darkorchid',ms=8)\n",
    "plt.plot(xyz7inv.x,xyz7inv.z,'o',color='red',ms=5)\n",
    "plt.plot(xyz9.x,xyz9.z,'s',color='dodgerblue',ms=8)\n",
    "plt.xlabel('X')\n",
    "plt.ylabel('Z')\n",
    "#plt.show()\n",
    "#plt.savefig('/Users/Sarah/Desktop/Ongoing/Swinburne_Nov15/tag_X_Z.eps')\n",
    "#plt.savefig(path1+'paper/figures/ff3.tiff')\n",
    "#plt.savefig('/Users/Sarah/lapdesk/Ongoing/SIfA-16/tag_X_Z.tiff')"
   ]
  },
  {
   "cell_type": "code",
   "execution_count": 117,
   "metadata": {
    "collapsed": false
   },
   "outputs": [
    {
     "data": {
      "image/png": "[encoded data removed]",
      "text/plain": [
       "<matplotlib.figure.Figure at 0x30f116400>"
      ]
     },
     "metadata": {},
     "output_type": "display_data"
    }
   ],
   "source": [
    "plt.hist(d5['FE_H'],bins=(np.arange(16)*0.2)-2.4,histtype='step',log=True,color='black', linestyle='solid') \n",
    "plt.hist(d6['FE_H'],bins=(np.arange(5)*0.2)-1.8,histtype='step',log=True,color='black', linestyle='dotted')\n",
    "plt.hist((d9['FE_H']),bins=(np.arange(5)*0.2)-1.8,histtype='step',log=True,color='black', linestyle='solid')\n",
    "plt.xlabel('[Fe/H]')\n",
    "plt.ylabel('log N')\n",
    "plt.xlim(-2.5,0.7)\n",
    "#plt.show()\n",
    "#plt.savefig('/Users/Sarah/Desktop/Ongoing/Swinburne_Nov15/tag_met_hist.eps')\n",
    "#plt.savefig(path1+'paper/figures/ff4.eps')\n",
    "#plt.savefig('/Users/Sarah/lapdesk/Ongoing/SIfA-16/tag_met_hist.eps')"
   ]
  },
  {
   "cell_type": "code",
   "execution_count": 119,
   "metadata": {
    "collapsed": false
   },
   "outputs": [
    {
     "data": {
      "image/png": "[encoded data removed]",
      "text/plain": [
       "<matplotlib.figure.Figure at 0x30d25a6a0>"
      ]
     },
     "metadata": {},
     "output_type": "display_data"
    }
   ],
   "source": [
    "rgcd6inv=np.sqrt((xyz6inv.x)**2+(xyz6inv.y)**2+(xyz6inv.z)**2)\n",
    "rgcd7inv=np.sqrt((xyz7inv.x)**2+(xyz7inv.y)**2+(xyz7inv.z)**2)\n",
    "rgcd8inv=np.sqrt((xyz8inv.x)**2+(xyz8inv.y)**2+(xyz8inv.z)**2)\n",
    "rgcd9inv=np.sqrt((xyz9inv.x)**2+(xyz9inv.y)**2+(xyz9inv.z)**2)\n",
    "rgcd9=np.sqrt((xyz9.x)**2+(xyz9.y)**2+(xyz9.z)**2)\n",
    "#rgcctaginv=np.sqrt((xyztaginv.x)**2+(xyztaginv.y)**2+(xyztaginv.z)**2)\n",
    "#rgcctag=np.sqrt((xyztag.x)**2+(xyztag.y)**2+(xyztag.z)**2)\n",
    "plt.plot(rgcd6inv,d6inv['z_height'],'.',color='grey')\n",
    "#plt.plot(rgcd6,d6['z_height'],'o',color='darkorchid')\n",
    "plt.plot(rgcd7inv,d7inv['z_height'],'o',color='darkorchid',ms=8)\n",
    "plt.plot(rgcd9,(d9['z_height']),'s',color='dodgerblue',ms=8)\n",
    "#plt.plot(d6inv['FE_H'],d6inv['z_height'],'.',color='grey')\n",
    "#plt.plot(ctaginv['FE_H'],ctaginv['z_height'],'o',color='darkorchid')\n",
    "#plt.plot((d6['FE_H'])[ctag],(d6['z_height'])[ctag],'s',color='dodgerblue')\n",
    "plt.xlabel('R$_{GC}$ (kpc)')\n",
    "plt.ylabel('|z| (kpc)')\n",
    "#plt.show()\n",
    "#plt.savefig('/Users/Sarah/Desktop/Ongoing/Swinburne_Nov15/tag_rgc_z.eps')\n",
    "#plt.savefig('/Users/Sarah/lapdesk/Ongoing/SIfA-16/tag_rgc_z.tiff')"
   ]
  },
  {
   "cell_type": "code",
   "execution_count": 28,
   "metadata": {
    "collapsed": false
   },
   "outputs": [
    {
     "data": {
      "text/latex": [
       "$[24.207852,~38.378519,~17.377346,~13.77289,~18.478863] \\; \\mathrm{kpc}$"
      ],
      "text/plain": [
       "<Quantity [ 24.20785162, 38.37851946, 17.37734627, 13.77288986,\n",
       "            18.47886347] kpc>"
      ]
     },
     "execution_count": 28,
     "metadata": {},
     "output_type": "execute_result"
    }
   ],
   "source": [
    "rgcd9"
   ]
  },
  {
   "cell_type": "code",
   "execution_count": 120,
   "metadata": {
    "collapsed": false
   },
   "outputs": [
    {
     "name": "stderr",
     "output_type": "stream",
     "text": [
      "/Users/sarah/anaconda/lib/python3.4/site-packages/ipykernel/__main__.py:7: RuntimeWarning: invalid value encountered in true_divide\n"
     ]
    },
    {
     "data": {
      "image/png": "[encoded data removed]",
      "text/plain": [
       "<matplotlib.figure.Figure at 0x30ed51390>"
      ]
     },
     "metadata": {},
     "output_type": "display_data"
    }
   ],
   "source": [
    "#dax=(np.arange(17)*3.)+1.\n",
    "dax=(np.arange(12)*4.)+2.\n",
    "#f1,f2,f3=plt.hist((d6['dist'])[ctag],bins=dax)\n",
    "f1,f2,f3=plt.hist(rgcd9,bins=dax)\n",
    "#f4,f5,f6=plt.hist(ctaginv['dist'],bins=dax)\n",
    "f4,f5,f6=plt.hist(rgcd7inv,bins=dax)\n",
    "ifrac=f1/f4\n",
    "ifrac[np.where(np.isnan(ifrac))]=0."
   ]
  },
  {
   "cell_type": "code",
   "execution_count": 121,
   "metadata": {
    "collapsed": false
   },
   "outputs": [
    {
     "data": {
      "text/plain": [
       "array([ 0.        ,  0.        ,  0.        ,  0.03030303,  0.03076923,\n",
       "        0.015625  ,  0.03125   ,  0.        ,  0.        ,  0.        ,\n",
       "        0.        ,  0.        ])"
      ]
     },
     "execution_count": 121,
     "metadata": {},
     "output_type": "execute_result"
    }
   ],
   "source": [
    "np.insert(ifrac,0,0.)"
   ]
  },
  {
   "cell_type": "code",
   "execution_count": 126,
   "metadata": {
    "collapsed": false
   },
   "outputs": [
    {
     "data": {
      "image/png": "[encoded data removed]",
      "text/plain": [
       "<matplotlib.figure.Figure at 0x30d29b898>"
      ]
     },
     "metadata": {},
     "output_type": "display_data"
    }
   ],
   "source": [
    "plt.plot(dax+1,np.insert(ifrac,0,0.),linestyle='solid',drawstyle='steps',color='black',linewidth=2)\n",
    "plt.xlabel('R$_{GC}$ (kpc)')\n",
    "plt.ylabel('Fraction of GC-tagged stars')\n",
    "plt.xlim(5,35)\n",
    "plt.ylim(-0.01,0.1)\n",
    "#plt.show()\n",
    "#plt.savefig('/Users/Sarah/Desktop/Ongoing/Swinburne_Nov15/tag_rgc_frac.eps')\n",
    "#plt.savefig('/Users/Sarah/lapdesk/Ongoing/SIfA-16/tag_rgc_frac.eps')"
   ]
  },
  {
   "cell_type": "code",
   "execution_count": 124,
   "metadata": {
    "collapsed": false
   },
   "outputs": [
    {
     "data": {
      "image/png": "[encoded data removed]",
      "text/plain": [
       "<matplotlib.figure.Figure at 0x30f0aea20>"
      ]
     },
     "metadata": {},
     "output_type": "display_data"
    }
   ],
   "source": [
    "plt.plot(d6inv['teff'],d6inv['logg'],'.',color='grey')\n",
    "plt.plot(d7inv['teff'],d7inv['logg'],'o',color='darkorchid',ms=8)\n",
    "plt.plot((d9['teff']),(d9['logg']),'s',color='dodgerblue',ms=8)\n",
    "plt.xlim(7200,3600)\n",
    "plt.ylim(4,-0.5)\n",
    "plt.xlabel('T$_{eff}$')\n",
    "plt.ylabel('log(g)')\n",
    "#plt.show()\n",
    "#plt.savefig('/Users/Sarah/Desktop/Ongoing/Swinburne_Nov15/tag_logg_teff.eps')\n",
    "#plt.savefig('/Users/Sarah/lapdesk/Ongoing/SIfA-16/tag_logg_teff.tiff')"
   ]
  },
  {
   "cell_type": "code",
   "execution_count": null,
   "metadata": {
    "collapsed": true
   },
   "outputs": [],
   "source": []
  },
  {
   "cell_type": "code",
   "execution_count": null,
   "metadata": {
    "collapsed": true
   },
   "outputs": [],
   "source": []
  },
  {
   "cell_type": "code",
   "execution_count": null,
   "metadata": {
    "collapsed": true
   },
   "outputs": [],
   "source": []
  },
  {
   "cell_type": "markdown",
   "metadata": {},
   "source": [
    "Old figures/other ways to do tagging & selection"
   ]
  },
  {
   "cell_type": "code",
   "execution_count": null,
   "metadata": {
    "collapsed": true
   },
   "outputs": [],
   "source": [
    "plt.figure(1)\n",
    "plt.figure(figsize=(6,6))\n",
    "plt.plot(d6['FE_H'],d6['nfe'],'.',color='darkgrey')\n",
    "plt.errorbar([-1.73],[-0.4],xerr=np.mean(d6['FE_H_ERR']),yerr=np.mean(d6['nfe_err']),color='black')\n",
    "plt.plot(cm3['FE_H'],cm3['nfe'],'o',color='dodgerblue',fillstyle='full')\n",
    "plt.errorbar([-1.6],[-0.4],xerr=np.mean(cm3['FE_H_ERR']),yerr=np.mean(cm3['nfe_err']),color='dodgerblue')\n",
    "plt.plot(cm13['FE_H'],cm13['nfe'],'s',color='darkorchid',fillstyle='full')\n",
    "plt.errorbar([-1.47],[-0.4],xerr=np.mean(cm13['FE_H_ERR']),yerr=np.mean(cm13['nfe_err']),color='darkorchid')\n",
    "plt.xlabel('[Fe/H]')\n",
    "plt.ylabel('[N/Fe]')\n",
    "plt.ylim(-0.6,1.3)\n",
    "ll=np.polyfit(d6['FE_H'],d6['nfe'],1)\n",
    "#ll=np.polyfit(gc_feh[gc_nfe<0.5],gc_nfe[gc_nfe<0.5],1)\n",
    "xax=np.arange(9)*0.1-1.8\n",
    "plt.plot(xax,xax*ll[0]+ll[1],color='black')\n",
    "plt.plot(xax,xax*ll[0]+ll[1]+0.43,color='black')\n",
    "plt.show()\n",
    "#plt.savefig('/Users/Sarah/Desktop/Ongoing/Swinburne_Nov15/tag_n_2.eps')\n",
    "#plt.savefig(path1+'paper/figures/tag_n_2.eps')"
   ]
  },
  {
   "cell_type": "code",
   "execution_count": null,
   "metadata": {
    "collapsed": true
   },
   "outputs": [],
   "source": [
    "plt.figure(1)\n",
    "plt.figure(figsize=(6,3))\n",
    "plt.plot(d6['teff'],d6['nfe'],'.k')\n",
    "#plt.errorbar([3750],[-0.4],xerr=np.mean(d6['TEFF_ERR']),yerr=np.mean(d6['nfe_err']),color='black')\n",
    "#plt.plot(cm3['TEFF'],cm3['nfe'],'o',color='dodgerblue',fillstyle='full')\n",
    "#plt.plot(cm13['TEFF'],cm13['nfe'],'s',color='darkorchid',fillstyle='full')\n",
    "plt.xlabel('$T_{eff}$')\n",
    "plt.ylabel('[N/Fe]')\n",
    "plt.ylim(-0.6,1.3)\n",
    "plt.show()\n",
    "#plt.savefig('/Users/Sarah/Desktop/Ongoing/Swinburne_Nov15/tag_n_1.eps')\n",
    "#plt.savefig(path1+'paper/figures/tag_n_1.eps')\n",
    "#plt.savefig('/Users/Sarah/Desktop/Ongoing/Leiden/chemtag3a.eps')"
   ]
  },
  {
   "cell_type": "code",
   "execution_count": null,
   "metadata": {
    "collapsed": true
   },
   "outputs": [],
   "source": [
    "plt.figure(1)\n",
    "plt.figure(figsize=(6,3))\n",
    "plt.plot(d6['teff'],d6['nfe'],'.k')\n",
    "#plt.errorbar([3750],[-0.4],xerr=np.mean(d6['TEFF_ERR']),yerr=np.mean(d6['nfe_err']),color='black')\n",
    "plt.plot(cm3['teff'],cm3['nfe'],'o',color='dodgerblue',fillstyle='full')\n",
    "plt.plot(cm13['teff'],cm13['nfe'],'s',color='darkorchid',fillstyle='full')\n",
    "plt.xlabel('$T_{eff}$')\n",
    "plt.ylabel('[N/Fe]')\n",
    "plt.ylim(-0.6,1.3)\n",
    "plt.show()\n",
    "#plt.savefig('/Users/Sarah/Desktop/Ongoing/Swinburne_Nov15/tag_n_1.eps')\n",
    "#plt.savefig(path1+'paper/figures/tag_n_1.eps')\n",
    "#plt.savefig('/Users/Sarah/Desktop/Ongoing/Leiden/chemtag3b.eps')"
   ]
  },
  {
   "cell_type": "code",
   "execution_count": null,
   "metadata": {
    "collapsed": true
   },
   "outputs": [],
   "source": [
    "plt.figure(1)\n",
    "plt.figure(figsize=(6,3))\n",
    "plt.plot(d6['teff'],d6['alfe'],'.k')\n",
    "#plt.errorbar([3750],[-0.4],xerr=np.mean(d6['TEFF_ERR']),yerr=np.mean(d6['nfe_err']),color='black')\n",
    "#plt.plot(cm3['TEFF'],cm3['nfe'],'o',color='dodgerblue',fillstyle='full')\n",
    "#plt.plot(cm13['TEFF'],cm13['nfe'],'s',color='darkorchid',fillstyle='full')\n",
    "plt.xlabel('$T_{eff}$')\n",
    "plt.ylabel('[Al/Fe]')\n",
    "plt.ylim(-0.6,1.3)\n",
    "plt.show()\n",
    "#plt.savefig('/Users/Sarah/Desktop/Ongoing/Swinburne_Nov15/tag_n_1.eps')\n",
    "#plt.savefig(path1+'paper/figures/tag_n_1.eps')\n",
    "#plt.savefig('/Users/Sarah/Desktop/Ongoing/Leiden/chemtag4a.eps')"
   ]
  },
  {
   "cell_type": "code",
   "execution_count": null,
   "metadata": {
    "collapsed": true
   },
   "outputs": [],
   "source": [
    "plt.figure(1)\n",
    "plt.figure(figsize=(6,3))\n",
    "plt.plot(d6['teff'],d6['alfe'],'.k')\n",
    "#plt.errorbar([3750],[-0.4],xerr=np.mean(d6['TEFF_ERR']),yerr=np.mean(d6['nfe_err']),color='black')\n",
    "plt.plot(cm3['teff'],cm3['alfe'],'o',color='dodgerblue',fillstyle='full')\n",
    "plt.plot(cm13['teff'],cm13['alfe'],'s',color='darkorchid',fillstyle='full')\n",
    "plt.xlabel('$T_{eff}$')\n",
    "plt.ylabel('[Al/Fe]')\n",
    "plt.ylim(-0.6,1.3)\n",
    "plt.show()\n",
    "#plt.savefig('/Users/Sarah/Desktop/Ongoing/Swinburne_Nov15/tag_n_1.eps')\n",
    "#plt.savefig(path1+'paper/figures/tag_n_1.eps')\n",
    "#plt.savefig('/Users/Sarah/Desktop/Ongoing/Leiden/chemtag4b.eps')"
   ]
  },
  {
   "cell_type": "code",
   "execution_count": null,
   "metadata": {
    "collapsed": true
   },
   "outputs": [],
   "source": [
    "plt.figure(1)\n",
    "plt.figure(figsize=(6,6))\n",
    "plt.plot(d6['teff'],d6['nfe'],'.',color='darkgrey')\n",
    "plt.errorbar([3750],[-0.4],xerr=np.mean(d6['TEFF_ERR']),yerr=np.mean(d6['nfe_err']),color='black')\n",
    "plt.plot(cm3['teff'],cm3['nfe'],'o',color='dodgerblue',fillstyle='full')\n",
    "plt.errorbar([3950],[-0.4],xerr=np.mean(cm3['TEFF_ERR']),yerr=np.mean(cm3['nfe_err']),color='dodgerblue')\n",
    "plt.plot(cm13['teff'],cm13['nfe'],'s',color='darkorchid',fillstyle='full')\n",
    "plt.errorbar([4150],[-0.4],xerr=np.mean(cm13['TEFF_ERR']),yerr=np.mean(cm13['nfe_err']),color='darkorchid')\n",
    "plt.xlabel('$T_{eff}$')\n",
    "plt.ylabel('[N/Fe]')\n",
    "plt.ylim(-0.6,1.3)\n",
    "ll=np.polyfit(d6['teff'],d6['nfe'],1)\n",
    "#ll=np.polyfit(gc_feh[gc_nfe<0.5],gc_nfe[gc_nfe<0.5],1)\n",
    "xax=np.arange(11)*100+3600\n",
    "plt.plot(xax,xax*ll[0]+ll[1],color='black')\n",
    "plt.plot([3600,4600],[0.6,0.6],color='yellow')\n",
    "#plt.plot(xax,xax*ll[0]+ll[1]+0.43,color='black')\n",
    "#plt.plot(xax,(xax*(ll[0]*1.4)+ll[1]+0.6),color='forestgreen')\n",
    "plt.plot(xax,(xax*ll[0]+ll[1]+0.53),color='magenta')\n",
    "plt.show()\n",
    "#plt.savefig('/Users/Sarah/Desktop/Ongoing/Swinburne_Nov15/tag_n_2.eps')\n",
    "#plt.savefig(path1+'paper/figures/tag_n_2.eps')"
   ]
  },
  {
   "cell_type": "code",
   "execution_count": null,
   "metadata": {
    "collapsed": false
   },
   "outputs": [],
   "source": [
    "l2,l3,l4=plt.hist((d6['nfe'])-np.polyval(ll,d6['FE_H']),60)\n",
    "l22,l33,l44=plt.hist(gc_nfe-np.polyval(ll,gc_feh),60)\n",
    "plt.plot([0.43,0.43],[0.,60.],color='black')"
   ]
  },
  {
   "cell_type": "code",
   "execution_count": null,
   "metadata": {
    "collapsed": true
   },
   "outputs": [],
   "source": [
    "plt.figure(1)\n",
    "plt.figure(figsize=(6,3))\n",
    "#plt.plot(d6['FE_H'],d6['alfe'],'.k')\n",
    "plt.plot(d6alt['FE_H'],d6alt['alfe'],'.k')\n",
    "plt.errorbar([-1.73],[1.],xerr=np.mean(d6['FE_H_ERR']),yerr=np.mean(d6['alfe_err']),color='black')\n",
    "#plt.plot(cm3['FE_H'],cm3['AL_H']-cm3['FE_H'],'o',color='dodgerblue',fillstyle='full')\n",
    "#plt.plot(cm13['FE_H'],cm13['AL_H']-cm13['FE_H'],'s',color='darkorchid',fillstyle='full')\n",
    "plt.xlabel('[Fe/H]')\n",
    "plt.ylabel('[Al/Fe]')\n",
    "plt.ylim(-0.6,1.3)\n",
    "plt.show()\n",
    "#plt.savefig('/Users/Sarah/Desktop/Ongoing/Swinburne_Nov15/tag_al_1.eps')\n",
    "#plt.savefig(path1+'paper/figures/tag_al_1.eps')"
   ]
  },
  {
   "cell_type": "code",
   "execution_count": null,
   "metadata": {
    "collapsed": true
   },
   "outputs": [],
   "source": [
    "plt.figure(1)\n",
    "plt.figure(figsize=(6,6))\n",
    "plt.plot(d6['FE_H'],d6['alfe'],'.',color='darkgrey')\n",
    "plt.errorbar([-1.73],[1.],xerr=np.mean(d6['FE_H_ERR']),yerr=np.mean(d6['alfe_err']),color='black')\n",
    "plt.plot(cm3['FE_H'],cm3['alfe'],'o',color='dodgerblue',fillstyle='full')\n",
    "plt.errorbar([-1.6],[1.],xerr=np.mean(cm3['FE_H_ERR']),yerr=np.mean(cm3['alfe_err']),color='dodgerblue')\n",
    "plt.plot(cm13['FE_H'],cm13['alfe'],'s',color='darkorchid',fillstyle='full')\n",
    "plt.errorbar([-1.47],[1.],xerr=np.mean(cm13['FE_H_ERR']),yerr=np.mean(cm13['alfe_err']),color='darkorchid')\n",
    "plt.xlabel('[Fe/H]')\n",
    "plt.ylabel('[Al/Fe]')\n",
    "plt.xlim(-1.8,-1.0)\n",
    "plt.ylim(-0.6,1.3)\n",
    "#mm=np.polyfit(d6['FE_H'][(d6['AL_H']-d6['FE_H'])<0],(d6['AL_H']-d6['FE_H'])[(d6['AL_H']-d6['FE_H'])<0],1)\n",
    "mm=np.polyfit(gc_feh[np.logical_and(gc_alfe>-0.05,gc_alfe<0.2)],gc_alfe[np.logical_and(gc_alfe>-0.05,gc_alfe<0.2)],1)\n",
    "#plt.plot(gc_feh[np.logical_and(gc_alfe>-0.05,gc_alfe<0.2)],gc_alfe[np.logical_and(gc_alfe>-0.05,gc_alfe<0.2)],'o',color='red')\n",
    "xax=np.arange(9)*0.1-1.8\n",
    "plt.plot(xax,xax*mm[0]+mm[1],color='black')\n",
    "plt.plot(xax,xax*mm[0]+mm[1]+0.15,color='black')\n",
    "plt.show()\n",
    "#plt.savefig('/Users/Sarah/Desktop/Ongoing/Swinburne_Nov15/tag_al_2.eps')\n",
    "#plt.savefig(path1+'paper/figures/tag_al_2.eps')"
   ]
  },
  {
   "cell_type": "code",
   "execution_count": null,
   "metadata": {
    "collapsed": false
   },
   "outputs": [],
   "source": [
    "plt.figure(1)\n",
    "plt.figure(figsize=(6,3))\n",
    "#plt.plot(d6['TEFF'],d6['alfe'],'.k')\n",
    "plt.plot(d6alt['teff'],d6alt['alfe'],'.k')\n",
    "plt.errorbar([3750],[1.],xerr=np.mean(d6['TEFF_ERR']),yerr=np.mean(d6['alfe_err']),color='black')\n",
    "#plt.plot(cm3['FE_H'],cm3['AL_H']-cm3['FE_H'],'o',color='dodgerblue',fillstyle='full')\n",
    "#plt.plot(cm13['FE_H'],cm13['AL_H']-cm13['FE_H'],'s',color='darkorchid',fillstyle='full')\n",
    "plt.xlabel('$T_{eff}$')\n",
    "plt.ylabel('[Al/Fe]')\n",
    "plt.ylim(-0.6,1.3)\n",
    "#plt.show()\n",
    "#plt.savefig('/Users/Sarah/Desktop/Ongoing/Swinburne_Nov15/tag_al_1.eps')\n",
    "plt.savefig(path1+'paper/figures/tag_al_1.eps')"
   ]
  },
  {
   "cell_type": "code",
   "execution_count": null,
   "metadata": {
    "collapsed": false
   },
   "outputs": [],
   "source": [
    "plt.figure(1)\n",
    "plt.figure(figsize=(6,6))\n",
    "plt.plot(d6['teff'],d6['alfe'],'.',color='darkgrey')\n",
    "plt.errorbar([3750],[1.],xerr=np.mean(d6['TEFF_ERR']),yerr=np.mean(d6['alfe_err']),color='black')\n",
    "plt.plot(cm3['teff'],cm3['alfe'],'o',color='dodgerblue',fillstyle='full')\n",
    "plt.errorbar([3950],[1.],xerr=np.mean(cm3['TEFF_ERR']),yerr=np.mean(cm3['alfe_err']),color='dodgerblue')\n",
    "plt.plot(cm13['teff'],cm13['alfe'],'s',color='darkorchid',fillstyle='full')\n",
    "plt.errorbar([4150],[1.],xerr=np.mean(cm13['TEFF_ERR']),yerr=np.mean(cm13['alfe_err']),color='darkorchid')\n",
    "plt.xlabel('$T_{eff}$')\n",
    "plt.ylabel('[Al/Fe]')\n",
    "plt.ylim(-0.6,1.3)\n",
    "mm=np.polyfit(d6['teff'][(d6['alfe'])<0.],(d6['alfe'])[(d6['alfe'])<0.],1)\n",
    "#mm=np.polyfit(gc_teff[np.logical_and(gc_alfe>-0.05,gc_alfe<0.2)],gc_alfe[np.logical_and(gc_alfe>-0.05,gc_alfe<0.2)],1)\n",
    "#plt.plot(gc_feh[np.logical_and(gc_alfe>-0.05,gc_alfe<0.2)],gc_alfe[np.logical_and(gc_alfe>-0.05,gc_alfe<0.2)],'o',color='red')\n",
    "xax=np.arange(11)*100+3600\n",
    "plt.plot(xax,xax*mm[0]+mm[1],color='black')\n",
    "plt.plot(xax,xax*mm[0]+mm[1]+0.5,color='magenta')\n",
    "plt.plot([3600,4600],[0.8,0.8],color='yellow')\n",
    "#plt.show()\n",
    "#plt.savefig('/Users/Sarah/Desktop/Ongoing/Swinburne_Nov15/tag_al_2.eps')\n",
    "plt.savefig(path1+'paper/figures/tag_al_2.eps')"
   ]
  },
  {
   "cell_type": "code",
   "execution_count": null,
   "metadata": {
    "collapsed": false
   },
   "outputs": [],
   "source": [
    "l5,l6,l7=plt.hist((d6['AL_H']-d6['FE_H'])-np.polyval(mm,d6['FE_H']),60)\n",
    "l55,l66,l77=plt.hist(gc_alfe-np.polyval(mm,gc_feh),60)\n",
    "plt.plot([0.15,0.15],[0.,80.],color='black')"
   ]
  },
  {
   "cell_type": "code",
   "execution_count": null,
   "metadata": {
    "collapsed": false
   },
   "outputs": [],
   "source": [
    "plt.figure(1)\n",
    "plt.figure(figsize=(6,3))\n",
    "plt.plot(d6['FE_H'],d6['MG_H']-d6['FE_H'],'.k')\n",
    "plt.errorbar([-1.73],[1.],xerr=np.mean(d6['FE_H_ERR']),yerr=np.mean(d6['mgfe_err'][d6['mgfe_err']<9000]),color='black')\n",
    "#plt.plot(cm3['FE_H'],cm3['MG_H']-cm3['FE_H'],'o',color='dodgerblue',fillstyle='full')\n",
    "#plt.plot(cm13['FE_H'],cm13['MG_H']-cm13['FE_H'],'s',color='darkorchid',fillstyle='full')\n",
    "plt.xlabel('[Fe/H]')\n",
    "plt.ylabel('[Mg/Fe]')\n",
    "plt.ylim(-0.6,1.3)\n",
    "plt.show()\n",
    "#plt.savefig('/Users/Sarah/Desktop/Ongoing/Swinburne_Nov15/tag_mg_1.eps')"
   ]
  },
  {
   "cell_type": "code",
   "execution_count": null,
   "metadata": {
    "collapsed": false
   },
   "outputs": [],
   "source": [
    "plt.figure(1)\n",
    "plt.figure(figsize=(6,3))\n",
    "plt.plot(d6['FE_H'],d6['mgfe'],'.',color='darkgrey')\n",
    "plt.errorbar([-1.73],[1.],xerr=np.mean(d6['FE_H_ERR']),yerr=np.mean(d6['mgfe_err'][d6['mgfe_err']<9000]),color='black')\n",
    "plt.plot(cm3['FE_H'],cm3['MG_H']-cm3['FE_H'],'o',color='dodgerblue',fillstyle='full')\n",
    "plt.errorbar([-1.6],[1.],xerr=np.mean(cm3['FE_H_ERR']),yerr=np.mean(cm3['mgfe_err']),color='dodgerblue')\n",
    "plt.plot(cm13['FE_H'],cm13['MG_H']-cm13['FE_H'],'s',color='darkorchid',fillstyle='full')\n",
    "plt.errorbar([-1.47],[1.],xerr=np.mean(cm13['FE_H_ERR']),yerr=np.mean(cm13['mgfe_err']),color='darkorchid')\n",
    "plt.xlabel('[Fe/H]')\n",
    "plt.ylabel('[Mg/Fe]')\n",
    "plt.ylim(-0.6,1.3)\n",
    "plt.show()\n",
    "#plt.savefig('/Users/Sarah/Desktop/Ongoing/Swinburne_Nov15/tag_mg_2.eps')"
   ]
  },
  {
   "cell_type": "markdown",
   "metadata": {},
   "source": [
    "Plot the N-Al plane, draw lines to isolate the GC migrants"
   ]
  },
  {
   "cell_type": "code",
   "execution_count": null,
   "metadata": {
    "collapsed": false
   },
   "outputs": [],
   "source": [
    "plt.plot(d6['nfe'],d6['alfe'],'.k')\n",
    "plt.plot(d6alt['nfe'],d6alt['alfe'],'.',color='cyan')\n",
    "plt.errorbar([-0.03],[1.],xerr=np.mean(d6['nfe_err']),yerr=np.mean(d6['alfe_err']),color='black')\n",
    "plt.xlabel('[N/Fe]')\n",
    "plt.ylabel('[Al/Fe]')\n",
    "plt.xlim(-0.2,1.2)\n",
    "plt.ylim(-0.6,1.2)\n",
    "plt.show()\n",
    "#plt.savefig('/Users/Sarah/Desktop/Ongoing/Swinburne_Nov15/tag_n_al_1.eps')"
   ]
  },
  {
   "cell_type": "code",
   "execution_count": null,
   "metadata": {
    "collapsed": false
   },
   "outputs": [],
   "source": [
    "plt.plot(d6['nfe'],d6['alfe'],'.',color='darkgrey')\n",
    "plt.errorbar([-0.03],[1.],xerr=np.mean(d6['nfe_err']),yerr=np.mean(d6['alfe_err']),color='black')\n",
    "plt.plot(cm3['nfe'],cm3['alfe'],'o',color='dodgerblue',fillstyle='full')\n",
    "plt.errorbar([0.3],[1.],xerr=np.mean(cm3['nfe_err']),yerr=np.mean(cm3['alfe_err']),color='dodgerblue')\n",
    "plt.plot(cm13['nfe'],cm13['alfe'],'s',color='darkorchid',fillstyle='full')\n",
    "plt.errorbar([0.63],[1.],xerr=np.mean(cm13['nfe_err']),yerr=np.mean(cm13['alfe_err']),color='darkorchid')\n",
    "#plt.plot(cm15['N_H']-cm15['FE_H'],cm15['AL_H']-cm15['FE_H'],'go')\n",
    "#xax=(np.arange(8)*0.2)-0.2\n",
    "#plt.plot(xax,(1.2*xax)-0.1,color='black')\n",
    "#plt.plot(xax,(1.2*xax)-1.1,color='black')\n",
    "#plt.plot(xax,(-2*xax)+1.4,color='black')\n",
    "plt.xlabel('[N/Fe]')\n",
    "plt.ylabel('[Al/Fe]')\n",
    "plt.xlim(-0.2,1.2)\n",
    "plt.ylim(-0.6,1.2)\n",
    "plt.show()\n",
    "#plt.savefig('/Users/Sarah/Desktop/Ongoing/Swinburne_Nov15/tag_n_al_2.eps')"
   ]
  },
  {
   "cell_type": "markdown",
   "metadata": {},
   "source": [
    "Now highlight the GC stars that passed the N-Teff and Al-Teff selection, and draw a field star selection box around them"
   ]
  },
  {
   "cell_type": "code",
   "execution_count": null,
   "metadata": {
    "collapsed": false
   },
   "outputs": [],
   "source": [
    "cm3g2=cm3[np.logical_and((cm3['nfe'])>0.53+np.polyval(ll,cm3['TEFF']),(cm3['alfe'])>0.5+np.polyval(mm,cm3['TEFF']))]\n",
    "cm13g2=cm13[np.logical_and((cm13['nfe'])>0.53+np.polyval(ll,cm13['TEFF']),(cm13['alfe'])>0.5+np.polyval(mm,cm13['TEFF']))]"
   ]
  },
  {
   "cell_type": "markdown",
   "metadata": {},
   "source": [
    "Selection 1: minimum requirements for N and Al"
   ]
  },
  {
   "cell_type": "code",
   "execution_count": null,
   "metadata": {
    "collapsed": false
   },
   "outputs": [],
   "source": [
    "plt.plot(d6['nfe'],d6['alfe'],'.',color='darkgrey')\n",
    "plt.plot(cm3['nfe'],cm3['alfe'],'o',color='dodgerblue',fillstyle='full')\n",
    "plt.plot(cm13['nfe'],cm13['alfe'],'s',color='darkorchid',fillstyle='full')\n",
    "#plt.plot(cm3g2['nfe'],cm3g2['alfe'],'o',color='dodgerblue',markersize=15,fillstyle='full')\n",
    "#plt.plot(cm13g2['nfe'],cm13g2['alfe'],'s',color='darkorchid',markersize=15,fillstyle='full')\n",
    "plt.plot([0.8,0.8],[-0.6,1.2],color='magenta')\n",
    "plt.plot([-0.2,1.2],[0.4,0.4],color='magenta')\n",
    "#plt.plot(cm15['N_H']-cm15['FE_H'],cm15['AL_H']-cm15['FE_H'],'go')\n",
    "#xax=(np.arange(8)*0.2)-0.2\n",
    "#plt.plot(xax,(1.2*xax)-0.1,color='black')\n",
    "#plt.plot(xax,(1.2*xax)-1.1,color='black')\n",
    "#plt.plot(xax,(-2*xax)+1.4,color='black')\n",
    "plt.xlabel('[N/Fe]')\n",
    "plt.ylabel('[Al/Fe]')\n",
    "plt.xlim(-0.2,1.2)\n",
    "plt.ylim(-0.6,1.2)\n",
    "plt.show()\n",
    "#plt.savefig('/Users/Sarah/Desktop/Ongoing/Swinburne_Nov15/tag_n_al_2.eps')"
   ]
  },
  {
   "cell_type": "markdown",
   "metadata": {},
   "source": [
    "What field stars are in the box?"
   ]
  },
  {
   "cell_type": "code",
   "execution_count": null,
   "metadata": {
    "collapsed": false
   },
   "outputs": [],
   "source": [
    "f2g=d6[np.logical_and((d6['N_H']-d6['FE_H'])>0.8,(d6['AL_H']-d6['FE_H'])>0.4)]"
   ]
  },
  {
   "cell_type": "code",
   "execution_count": null,
   "metadata": {
    "collapsed": false
   },
   "outputs": [],
   "source": [
    "plt.plot(d6['N_H']-d6['FE_H'],d6['AL_H']-d6['FE_H'],'.',color='darkgrey')\n",
    "#plt.plot(cm107['N_H']-cm107['FE_H'],cm107['AL_H']-cm107['FE_H'],'bo')\n",
    "plt.plot(cm3['N_H']-cm3['FE_H'],cm3['AL_H']-cm3['FE_H'],'o',color='dodgerblue',fillstyle='full')\n",
    "plt.plot(cm13['N_H']-cm13['FE_H'],cm13['AL_H']-cm13['FE_H'],'s',color='darkorchid',fillstyle='full')\n",
    "plt.plot(cm3g2['N_H']-cm3g2['FE_H'],cm3g2['AL_H']-cm3g2['FE_H'],'o',color='dodgerblue',markersize=15,fillstyle='full')\n",
    "#plt.plot(cm13g2['N_H']-cm13g2['FE_H'],cm13g2['AL_H']-cm13g2['FE_H'],'s',color='darkorchid',markersize=15,fillstyle='full')\n",
    "plt.plot([0.8,0.8],[-0.6,1.2],color='magenta')\n",
    "plt.plot([-0.2,1.2],[0.4,0.4],color='magenta')\n",
    "plt.plot((f2g['N_H']-f2g['FE_H']),(f2g['AL_H']-f2g['FE_H']),'o',color='red',markersize=20,fillstyle='none',markeredgewidth=3)\n",
    "#plt.plot(cm15['N_H']-cm15['FE_H'],cm15['AL_H']-cm15['FE_H'],'go')\n",
    "#xax=(np.arange(8)*0.2)-0.2\n",
    "#plt.plot(xax,(1.2*xax)-0.1,color='black')\n",
    "#plt.plot(xax,(1.2*xax)-1.1,color='black')\n",
    "#plt.plot(xax,(-2*xax)+1.4,color='black')\n",
    "plt.xlabel('[N/Fe]')\n",
    "plt.ylabel('[Al/Fe]')\n",
    "plt.xlim(-0.2,1.2)\n",
    "plt.ylim(-0.6,1.2)\n",
    "plt.show()\n",
    "#plt.savefig('/Users/Sarah/Desktop/Ongoing/Swinburne_Nov15/tag_n_al_2.eps')"
   ]
  },
  {
   "cell_type": "markdown",
   "metadata": {
    "collapsed": true
   },
   "source": [
    "Selection 2: angled box around the GC stars"
   ]
  },
  {
   "cell_type": "code",
   "execution_count": null,
   "metadata": {
    "collapsed": false
   },
   "outputs": [],
   "source": [
    "plt.plot(d6['N_H']-d6['FE_H'],d6['AL_H']-d6['FE_H'],'.',color='darkgrey')\n",
    "#plt.plot(cm107['N_H']-cm107['FE_H'],cm107['AL_H']-cm107['FE_H'],'bo')\n",
    "plt.plot(cm3['N_H']-cm3['FE_H'],cm3['AL_H']-cm3['FE_H'],'o',color='dodgerblue',fillstyle='full')\n",
    "plt.plot(cm13['N_H']-cm13['FE_H'],cm13['AL_H']-cm13['FE_H'],'s',color='darkorchid',fillstyle='full')\n",
    "#plt.plot(cm15['N_H']-cm15['FE_H'],cm15['AL_H']-cm15['FE_H'],'go')\n",
    "#xax=(np.arange(8)*0.2)-0.2\n",
    "#plt.plot(xax,(1.2*xax)-0.1,color='black')\n",
    "#plt.plot(xax,(1.2*xax)-1.1,color='black')\n",
    "#plt.plot(xax,(-2*xax)+1.4,color='black')\n",
    "plt.xlabel('[N/Fe]')\n",
    "plt.ylabel('[Al/Fe]')\n",
    "plt.xlim(-0.2,1.2)\n",
    "plt.ylim(-0.6,1.2)\n",
    "plt.show()\n",
    "#plt.savefig('/Users/Sarah/Desktop/Ongoing/Swinburne_Nov15/tag_n_al_2.eps')"
   ]
  },
  {
   "cell_type": "markdown",
   "metadata": {},
   "source": [
    "Alternative to selection based on Teff-[X/Fe] or [Fe/H]-[X/Fe]: N-Al selection"
   ]
  },
  {
   "cell_type": "code",
   "execution_count": null,
   "metadata": {
    "collapsed": false
   },
   "outputs": [],
   "source": [
    "plt.plot(d6['nfe'],d6['alfe'],'.',color='darkgrey')\n",
    "plt.plot(d6alt['nfe'],d6alt['alfe'],'.',color='cyan')\n",
    "plt.plot(cm3['nfe'],cm3['alfe'],'o',color='dodgerblue',fillstyle='full')\n",
    "plt.plot(cm13['nfe'],cm13['alfe'],'s',color='darkorchid',fillstyle='full')\n",
    "#plt.plot(cm15['N_H']-cm15['FE_H'],cm15['AL_H']-cm15['FE_H'],'go')\n",
    "xax=(np.arange(8)*0.2)-0.2\n",
    "plt.plot(xax,(1.2*xax)-0.1,color='black')\n",
    "plt.plot(xax,(1.2*xax)-1.1,color='black')\n",
    "plt.plot(xax,(-2*xax)+1.4,color='black')\n",
    "plt.xlabel('[N/Fe]')\n",
    "plt.ylabel('[Al/Fe]')\n",
    "plt.xlim(-0.2,1.2)\n",
    "plt.ylim(-0.6,1.2)\n",
    "plt.show()\n",
    "#plt.savefig('/Users/Sarah/Desktop/Ongoing/Swinburne_Nov15/tag_n_al_3.eps')"
   ]
  },
  {
   "cell_type": "code",
   "execution_count": null,
   "metadata": {
    "collapsed": false
   },
   "outputs": [],
   "source": [
    "ctag=np.where(((d6['alfe']) < (((d6['nfe'])*1.2)-0.1)) & ((d6['alfe']) > (((d6['nfe'])*1.2)-1.1)) & ((d6['AL_H']-d6['FE_H']) > (((d6['N_H']-d6['FE_H'])*(-2)+1.4))))\n",
    "#also grab the complement of ctag (that is, d6 without ctag)\n",
    "dfin=d6[ctag]\n",
    "m6=np.ones(len(d6),np.bool)\n",
    "m6[ctag]=0\n",
    "ctaginv=d6[m6]"
   ]
  },
  {
   "cell_type": "code",
   "execution_count": null,
   "metadata": {
    "collapsed": false
   },
   "outputs": [],
   "source": [
    "plt.plot(d6['nfe'],d6['alfe'],'.',color='darkgrey')\n",
    "plt.plot(cm3['nfe'],cm3['alfe'],'o',color='dodgerblue',fillstyle='full')\n",
    "plt.plot(cm13['nfe'],cm13['alfe'],'s',color='darkorchid',fillstyle='full')\n",
    "#plt.plot(cm15['N_H']-cm15['FE_H'],cm15['AL_H']-cm15['FE_H'],'go')\n",
    "plt.plot((d6['nfe'])[ctag],(d6['alfe'])[ctag],'o',color='red',markersize=20,fillstyle='none',markeredgewidth=3)\n",
    "xax=(np.arange(8)*0.2)-0.2\n",
    "plt.plot(xax,(1.2*xax)-0.1,color='black')\n",
    "plt.plot(xax,(1.2*xax)-1.1,color='black')\n",
    "plt.plot(xax,(-2*xax)+1.4,color='black')\n",
    "plt.xlabel('[N/Fe]')\n",
    "plt.ylabel('[Al/Fe]')\n",
    "plt.xlim(-0.2,1.2)\n",
    "plt.ylim(-0.6,1.2)\n",
    "plt.show()\n",
    "#plt.savefig('/Users/Sarah/Desktop/Ongoing/Swinburne_Nov15/tag_n_al_4.eps')"
   ]
  },
  {
   "cell_type": "code",
   "execution_count": null,
   "metadata": {
    "collapsed": true
   },
   "outputs": [],
   "source": []
  },
  {
   "cell_type": "code",
   "execution_count": null,
   "metadata": {
    "collapsed": true
   },
   "outputs": [],
   "source": []
  },
  {
   "cell_type": "code",
   "execution_count": null,
   "metadata": {
    "collapsed": false
   },
   "outputs": [],
   "source": [
    "import seaborn as sns\n",
    "sns.set(color_codes=True)"
   ]
  },
  {
   "cell_type": "code",
   "execution_count": null,
   "metadata": {
    "collapsed": false
   },
   "outputs": [],
   "source": [
    "g=(sns.jointplot(d6['nfe'],d6['alfe'],color='grey',stat_func=None)) .set_axis_labels(\"[N/Fe]\", \"[Al/Fe]\")\n",
    "gg=(sns.jointplot(cm3['nfe'],cm3['alfe'],color='grey',stat_func=None)) .set_axis_labels(\"[N/Fe]\", \"[Al/Fe]\")\n",
    "ggg=(sns.jointplot(cm13['nfe'],cm13['alfe'],color='grey',stat_func=None)) .set_axis_labels(\"[N/Fe]\", \"[Al/Fe]\")"
   ]
  },
  {
   "cell_type": "code",
   "execution_count": null,
   "metadata": {
    "collapsed": false
   },
   "outputs": [],
   "source": [
    "unique(slist,keys='Cluster')"
   ]
  },
  {
   "cell_type": "code",
   "execution_count": null,
   "metadata": {
    "collapsed": true
   },
   "outputs": [],
   "source": []
  },
  {
   "cell_type": "markdown",
   "metadata": {},
   "source": [
    "Name the subset of stars in the box (there are 14)"
   ]
  },
  {
   "cell_type": "code",
   "execution_count": null,
   "metadata": {
    "collapsed": false
   },
   "outputs": [],
   "source": [
    "print(len(ctag[0]),len(d6),len(ctag[0])/len(d6),len(ctaginv))"
   ]
  },
  {
   "cell_type": "markdown",
   "metadata": {
    "collapsed": true
   },
   "source": [
    "Make some more figures"
   ]
  },
  {
   "cell_type": "code",
   "execution_count": null,
   "metadata": {
    "collapsed": true
   },
   "outputs": [],
   "source": [
    "s1=np.where((d6['SNR'] > 120) & (d6['SNR'] < 150) & (d6['FE_H'] > -1.7) & (d6['FE_H'] < -1.4))"
   ]
  },
  {
   "cell_type": "code",
   "execution_count": null,
   "metadata": {
    "collapsed": false
   },
   "outputs": [],
   "source": [
    "plt.plot((d6['dist'])[s1],(d6['nfe'])[s1],'o',color='black')\n",
    "plt.xlabel('d (kpc)')\n",
    "plt.ylabel('[N/Fe]')\n",
    "#plt.show()\n",
    "plt.savefig(path1+'paper/figures/ff1.eps')"
   ]
  },
  {
   "cell_type": "code",
   "execution_count": null,
   "metadata": {
    "collapsed": false
   },
   "outputs": [],
   "source": [
    "#c = SkyCoord(ra=d6['RA']*u.degree, dec=d6['DEC']*u.degree, distance=dvec*u.kpc, frame='icrs')"
   ]
  },
  {
   "cell_type": "code",
   "execution_count": null,
   "metadata": {
    "collapsed": false
   },
   "outputs": [],
   "source": [
    "rdd6=coord.ICRS(ra=d6['RA']*u.degree,dec=d6['DEC']*u.degree,distance=d6['dist']*u.kpc)\n",
    "xyz6=rdd6.transform_to(coord.Galactocentric) \n",
    "rdd6inv=coord.ICRS(ra=d6inv['RA']*u.degree,dec=d6inv['DEC']*u.degree,distance=d6inv['dist']*u.kpc)\n",
    "xyz6inv=rdd6inv.transform_to(coord.Galactocentric)\n",
    "rddtag=coord.ICRS(ra=(d6['RA'])[ctag]*u.degree,dec=(d6['DEC'])[ctag]*u.degree,distance=(d6['dist'])[ctag]*u.kpc)\n",
    "xyztag=rddtag.transform_to(coord.Galactocentric) \n",
    "rddtaginv=coord.ICRS(ra=ctaginv['RA']*u.degree,dec=ctaginv['DEC']*u.degree,distance=ctaginv['dist']*u.kpc)\n",
    "xyztaginv=rddtaginv.transform_to(coord.Galactocentric)"
   ]
  },
  {
   "cell_type": "code",
   "execution_count": null,
   "metadata": {
    "collapsed": false
   },
   "outputs": [],
   "source": [
    "plt.figure(1)\n",
    "plt.figure(figsize=(6,6))\n",
    "#ax1 = plt.subplot(121)\n",
    "#plt.plot(xyz6inv.x,xyz6inv.y,'.',color='grey')\n",
    "#plt.plot(xyz6.x,xyz6.y,'o',color='darkorchid')\n",
    "#plt.plot(xyztag.x,xyztag.y,'s',color='dodgerblue')\n",
    "#plt.xlabel('X')\n",
    "#plt.ylabel('Y')\n",
    "#ax2 = plt.subplot(122)\n",
    "plt.plot(xyz6inv.x,xyz6inv.z,'.',color='grey')\n",
    "plt.plot(xyz6.x,xyz6.z,'o',color='red')\n",
    "#plt.plot(xyztag.x,xyztag.z,'s',color='dodgerblue')\n",
    "#plt.plot([-40,30],[-9,-9])\n",
    "#plt.plot([-40,30],[9,9])\n",
    "plt.xlabel('X')\n",
    "plt.ylabel('Z')\n",
    "#plt.show()\n",
    "#plt.savefig('/Users/Sarah/Desktop/Ongoing/Swinburne_Nov15/tag_X_Z.eps')\n",
    "plt.savefig(path1+'paper/figures/ff3.eps')"
   ]
  },
  {
   "cell_type": "code",
   "execution_count": null,
   "metadata": {
    "collapsed": false
   },
   "outputs": [],
   "source": [
    "#ax1 = plt.subplot(121)\n",
    "plt.figure(1)\n",
    "plt.figure(figsize=(6,6))\n",
    "plt.plot(xyz6inv.x,xyz6inv.y,'.',color='grey')\n",
    "plt.plot(xyz6.x,xyz6.y,'o',color='red')\n",
    "#plt.plot(xyztag.x,xyztag.y,'s',color='dodgerblue')\n",
    "plt.xlabel('X')\n",
    "plt.ylabel('Y')\n",
    "#ax2 = plt.subplot(122)\n",
    "#plt.plot(xyz6inv.x,xyz6inv.z,'.',color='grey')\n",
    "#plt.plot(xyz6.x,xyz6.z,'o',color='darkorchid')\n",
    "#plt.plot(xyztag.x,xyztag.z,'s',color='dodgerblue')\n",
    "#plt.xlabel('X')\n",
    "#plt.ylabel('Z')\n",
    "#plt.show()\n",
    "#plt.savefig('/Users/Sarah/Desktop/Ongoing/Swinburne_Nov15/tag_X_Y.eps')\n",
    "plt.savefig(path1+'paper/figures/ff2.eps')"
   ]
  },
  {
   "cell_type": "code",
   "execution_count": null,
   "metadata": {
    "collapsed": false
   },
   "outputs": [],
   "source": [
    "plt.figure(1)\n",
    "plt.figure(figsize=(6,6))\n",
    "#ax1 = plt.subplot(121)\n",
    "#plt.plot(xyz6inv.x,xyz6inv.y,'.',color='grey')\n",
    "#plt.plot(xyz6.x,xyz6.y,'o',color='darkorchid')\n",
    "#plt.plot(xyztag.x,xyztag.y,'s',color='dodgerblue')\n",
    "#plt.xlabel('X')\n",
    "#plt.ylabel('Y')\n",
    "#ax2 = plt.subplot(122)\n",
    "plt.plot(xyz6inv.x,xyz6inv.z,'.',color='grey')\n",
    "plt.plot(xyz6.x,xyz6.z,'o',color='red')\n",
    "#plt.plot(xyztag.x,xyztag.z,'s',color='dodgerblue')\n",
    "#plt.plot([-40,30],[-9,-9])\n",
    "#plt.plot([-40,30],[9,9])\n",
    "plt.xlabel('X')\n",
    "plt.ylabel('Z')\n",
    "#plt.show()\n",
    "#plt.savefig('/Users/Sarah/Desktop/Ongoing/Swinburne_Nov15/tag_X_Z.eps')\n",
    "plt.savefig(path1+'paper/figures/ff3.eps')"
   ]
  },
  {
   "cell_type": "code",
   "execution_count": null,
   "metadata": {
    "collapsed": false
   },
   "outputs": [],
   "source": [
    "plt.plot(d6inv['FE_H'],d6inv['z_height'],'.',color='grey')\n",
    "plt.plot(ctaginv['FE_H'],ctaginv['z_height'],'o',color='darkorchid')\n",
    "plt.plot((d6['FE_H'])[ctag],(d6['z_height'])[ctag],'s',color='dodgerblue')\n",
    "plt.xlabel('[Fe/H]')\n",
    "plt.ylabel('|z| (kpc)')\n",
    "plt.show()"
   ]
  },
  {
   "cell_type": "code",
   "execution_count": null,
   "metadata": {
    "collapsed": false
   },
   "outputs": [],
   "source": [
    "print(len(rgcd6),len(xyztaginv),len(d6))"
   ]
  },
  {
   "cell_type": "code",
   "execution_count": null,
   "metadata": {
    "collapsed": false
   },
   "outputs": [],
   "source": [
    "rgcd6inv=np.sqrt((xyz6inv.x)**2+(xyz6inv.y)**2+(xyz6inv.z)**2)\n",
    "rgcd6=np.sqrt((xyz6.x)**2+(xyz6.y)**2+(xyz6.z)**2)\n",
    "rgcctaginv=np.sqrt((xyztaginv.x)**2+(xyztaginv.y)**2+(xyztaginv.z)**2)\n",
    "rgcctag=np.sqrt((xyztag.x)**2+(xyztag.y)**2+(xyztag.z)**2)\n",
    "plt.plot(rgcd6inv,d6inv['z_height'],'.',color='grey')\n",
    "#plt.plot(rgcd6,d6['z_height'],'o',color='darkorchid')\n",
    "plt.plot(rgcctaginv,ctaginv['z_height'],'o',color='darkorchid')\n",
    "plt.plot(rgcctag,(d6['z_height'])[ctag],'s',color='dodgerblue')\n",
    "#plt.plot(d6inv['FE_H'],d6inv['z_height'],'.',color='grey')\n",
    "#plt.plot(ctaginv['FE_H'],ctaginv['z_height'],'o',color='darkorchid')\n",
    "#plt.plot((d6['FE_H'])[ctag],(d6['z_height'])[ctag],'s',color='dodgerblue')\n",
    "plt.xlabel('R$_{GC}$ (kpc)')\n",
    "plt.ylabel('|z| (kpc)')\n",
    "plt.show()\n",
    "#plt.savefig('/Users/Sarah/Desktop/Ongoing/Swinburne_Nov15/tag_rgc_z.eps')"
   ]
  },
  {
   "cell_type": "code",
   "execution_count": null,
   "metadata": {
    "collapsed": false
   },
   "outputs": [],
   "source": [
    "min(rgcd7)"
   ]
  },
  {
   "cell_type": "code",
   "execution_count": null,
   "metadata": {
    "collapsed": false
   },
   "outputs": [],
   "source": [
    "plt.plot(d6inv['dist'],d6inv['N_H']-d6inv['FE_H'],'.',color='grey')\n",
    "plt.plot(ctaginv['dist'],ctaginv['N_H']-ctaginv['FE_H'],'o',color='darkorchid')\n",
    "plt.plot((d6['dist'])[ctag],(d6['nfe'])[ctag],'s',color='dodgerblue')\n",
    "plt.xlabel('D (kpc)')\n",
    "plt.ylabel('[N/Fe]')\n",
    "plt.show()\n",
    "#plt.savefig('/Users/Sarah/Desktop/Ongoing/Swinburne_Nov15/tag_d_n.eps')"
   ]
  },
  {
   "cell_type": "code",
   "execution_count": null,
   "metadata": {
    "collapsed": false
   },
   "outputs": [],
   "source": [
    "#plt.hist((d6['dist'])[ctag],bins=dax,cumulative=True,histtype='step',normed=1,color='black',linestyle='solid')\n",
    "plt.hist(rgcctag,bins=dax,cumulative=True,histtype='step',normed=1,color='black',linestyle='solid')\n",
    "#plt.hist(ctaginv['dist'],bins=dax,cumulative=True,histtype='step',color='black',linestyle='dashed',normed=1)\n",
    "plt.hist(rgcctaginv,bins=dax,cumulative=True,histtype='step',normed=1,color='black',linestyle='dashed')\n",
    "plt.xlim(0,45)\n",
    "plt.ylim(0,1.1)\n",
    "plt.xlabel('R$_{GC}$ (kpc)')\n",
    "#plt.savefig('/Users/Sarah/Desktop/Ongoing/Swinburne_Nov15/tag_rgc_norm.eps')"
   ]
  },
  {
   "cell_type": "code",
   "execution_count": null,
   "metadata": {
    "collapsed": true
   },
   "outputs": [],
   "source": []
  }
 ],
 "metadata": {
  "kernelspec": {
   "display_name": "Python 3",
   "language": "python",
   "name": "python3"
  },
  "language_info": {
   "codemirror_mode": {
    "name": "ipython",
    "version": 3
   },
   "file_extension": ".py",
   "mimetype": "text/x-python",
   "name": "python",
   "nbconvert_exporter": "python",
   "pygments_lexer": "ipython3",
   "version": "3.4.3"
  }
 },
 "nbformat": 4,
 "nbformat_minor": 0
}
